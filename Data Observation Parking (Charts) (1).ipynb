{
 "cells": [
  {
   "cell_type": "code",
   "execution_count": 1,
   "metadata": {},
   "outputs": [],
   "source": [
    "%matplotlib inline\n",
    "\n",
    "import numpy as np\n",
    "import pandas as pd\n",
    "import matplotlib.pyplot as plt\n",
    "\n",
    "import patsy\n",
    "import statsmodels.api as sm\n",
    "import scipy.stats as stats\n",
    "from scipy.stats import ttest_ind, chisquare, normaltest\n"
   ]
  },
  {
   "cell_type": "markdown",
   "metadata": {},
   "source": [
    "## S Parking Spaces (By Location) (La Jolla Campus)"
   ]
  },
  {
   "cell_type": "code",
   "execution_count": 4,
   "metadata": {},
   "outputs": [],
   "source": [
    "df_La_Jolla_S = pd.read_csv(\"/home/ktantipa/ECE143_FinalProject/csv_data/By-Location/La_Jolla_Campus__S_Parking_Spaces.csv\")"
   ]
  },
  {
   "cell_type": "code",
   "execution_count": 5,
   "metadata": {},
   "outputs": [],
   "source": [
    "assert isinstance(df_La_Jolla_S, pd.DataFrame)"
   ]
  },
  {
   "cell_type": "code",
   "execution_count": 6,
   "metadata": {},
   "outputs": [
    {
     "data": {
      "text/html": [
       "<div>\n",
       "<style scoped>\n",
       "    .dataframe tbody tr th:only-of-type {\n",
       "        vertical-align: middle;\n",
       "    }\n",
       "\n",
       "    .dataframe tbody tr th {\n",
       "        vertical-align: top;\n",
       "    }\n",
       "\n",
       "    .dataframe thead th {\n",
       "        text-align: right;\n",
       "    }\n",
       "</style>\n",
       "<table border=\"1\" class=\"dataframe\">\n",
       "  <thead>\n",
       "    <tr style=\"text-align: right;\">\n",
       "      <th></th>\n",
       "      <th>year</th>\n",
       "      <th>quarter</th>\n",
       "      <th>parking_spaces</th>\n",
       "      <th>8am</th>\n",
       "      <th>9am</th>\n",
       "      <th>10am</th>\n",
       "      <th>11am</th>\n",
       "      <th>12pm</th>\n",
       "      <th>1pm</th>\n",
       "      <th>2pm</th>\n",
       "      <th>3pm</th>\n",
       "      <th>4pm</th>\n",
       "      <th>5pm</th>\n",
       "      <th>peak_empty_spaces</th>\n",
       "      <th>peak_occupied_spaces</th>\n",
       "      <th>%_occupied</th>\n",
       "    </tr>\n",
       "  </thead>\n",
       "  <tbody>\n",
       "    <tr>\n",
       "      <th>0</th>\n",
       "      <td>2000/01</td>\n",
       "      <td>Summer</td>\n",
       "      <td>6474.0</td>\n",
       "      <td>4882.0</td>\n",
       "      <td>4507.0</td>\n",
       "      <td>4149.0</td>\n",
       "      <td>3929.0</td>\n",
       "      <td>4041.0</td>\n",
       "      <td>4104.0</td>\n",
       "      <td>4149.0</td>\n",
       "      <td>4236.0</td>\n",
       "      <td>4387.0</td>\n",
       "      <td>4642.0</td>\n",
       "      <td>3929.0</td>\n",
       "      <td>2545.0</td>\n",
       "      <td>0.39</td>\n",
       "    </tr>\n",
       "    <tr>\n",
       "      <th>1</th>\n",
       "      <td>2000/01</td>\n",
       "      <td>Fall</td>\n",
       "      <td>6527.0</td>\n",
       "      <td>3713.0</td>\n",
       "      <td>2842.0</td>\n",
       "      <td>1815.0</td>\n",
       "      <td>1165.0</td>\n",
       "      <td>989.0</td>\n",
       "      <td>935.0</td>\n",
       "      <td>1024.0</td>\n",
       "      <td>1377.0</td>\n",
       "      <td>1738.0</td>\n",
       "      <td>2422.0</td>\n",
       "      <td>935.0</td>\n",
       "      <td>5592.0</td>\n",
       "      <td>0.86</td>\n",
       "    </tr>\n",
       "    <tr>\n",
       "      <th>2</th>\n",
       "      <td>2000/01</td>\n",
       "      <td>Winter</td>\n",
       "      <td>7203.0</td>\n",
       "      <td>4196.0</td>\n",
       "      <td>3280.0</td>\n",
       "      <td>2466.0</td>\n",
       "      <td>1881.0</td>\n",
       "      <td>1675.0</td>\n",
       "      <td>1588.0</td>\n",
       "      <td>1622.0</td>\n",
       "      <td>1931.0</td>\n",
       "      <td>2363.0</td>\n",
       "      <td>3060.0</td>\n",
       "      <td>1588.0</td>\n",
       "      <td>5615.0</td>\n",
       "      <td>0.78</td>\n",
       "    </tr>\n",
       "    <tr>\n",
       "      <th>3</th>\n",
       "      <td>2000/01</td>\n",
       "      <td>Spring</td>\n",
       "      <td>7205.0</td>\n",
       "      <td>4267.0</td>\n",
       "      <td>3306.0</td>\n",
       "      <td>2570.0</td>\n",
       "      <td>1962.0</td>\n",
       "      <td>1714.0</td>\n",
       "      <td>1636.0</td>\n",
       "      <td>1712.0</td>\n",
       "      <td>2003.0</td>\n",
       "      <td>2354.0</td>\n",
       "      <td>2980.0</td>\n",
       "      <td>1636.0</td>\n",
       "      <td>5569.0</td>\n",
       "      <td>0.77</td>\n",
       "    </tr>\n",
       "    <tr>\n",
       "      <th>4</th>\n",
       "      <td>2001/02</td>\n",
       "      <td>Summer</td>\n",
       "      <td>7243.0</td>\n",
       "      <td>5646.0</td>\n",
       "      <td>5228.0</td>\n",
       "      <td>4789.0</td>\n",
       "      <td>4533.0</td>\n",
       "      <td>4603.0</td>\n",
       "      <td>4689.0</td>\n",
       "      <td>4693.0</td>\n",
       "      <td>4751.0</td>\n",
       "      <td>4839.0</td>\n",
       "      <td>5054.0</td>\n",
       "      <td>4533.0</td>\n",
       "      <td>2710.0</td>\n",
       "      <td>0.37</td>\n",
       "    </tr>\n",
       "  </tbody>\n",
       "</table>\n",
       "</div>"
      ],
      "text/plain": [
       "      year quarter  parking_spaces     8am     9am    10am    11am    12pm  \\\n",
       "0  2000/01  Summer          6474.0  4882.0  4507.0  4149.0  3929.0  4041.0   \n",
       "1  2000/01    Fall          6527.0  3713.0  2842.0  1815.0  1165.0   989.0   \n",
       "2  2000/01  Winter          7203.0  4196.0  3280.0  2466.0  1881.0  1675.0   \n",
       "3  2000/01  Spring          7205.0  4267.0  3306.0  2570.0  1962.0  1714.0   \n",
       "4  2001/02  Summer          7243.0  5646.0  5228.0  4789.0  4533.0  4603.0   \n",
       "\n",
       "      1pm     2pm     3pm     4pm     5pm  peak_empty_spaces  \\\n",
       "0  4104.0  4149.0  4236.0  4387.0  4642.0             3929.0   \n",
       "1   935.0  1024.0  1377.0  1738.0  2422.0              935.0   \n",
       "2  1588.0  1622.0  1931.0  2363.0  3060.0             1588.0   \n",
       "3  1636.0  1712.0  2003.0  2354.0  2980.0             1636.0   \n",
       "4  4689.0  4693.0  4751.0  4839.0  5054.0             4533.0   \n",
       "\n",
       "   peak_occupied_spaces  %_occupied  \n",
       "0                2545.0        0.39  \n",
       "1                5592.0        0.86  \n",
       "2                5615.0        0.78  \n",
       "3                5569.0        0.77  \n",
       "4                2710.0        0.37  "
      ]
     },
     "execution_count": 6,
     "metadata": {},
     "output_type": "execute_result"
    }
   ],
   "source": [
    "df_La_Jolla_S.head()"
   ]
  },
  {
   "cell_type": "code",
   "execution_count": 7,
   "metadata": {},
   "outputs": [
    {
     "data": {
      "text/html": [
       "<div>\n",
       "<style scoped>\n",
       "    .dataframe tbody tr th:only-of-type {\n",
       "        vertical-align: middle;\n",
       "    }\n",
       "\n",
       "    .dataframe tbody tr th {\n",
       "        vertical-align: top;\n",
       "    }\n",
       "\n",
       "    .dataframe thead th {\n",
       "        text-align: right;\n",
       "    }\n",
       "</style>\n",
       "<table border=\"1\" class=\"dataframe\">\n",
       "  <thead>\n",
       "    <tr style=\"text-align: right;\">\n",
       "      <th></th>\n",
       "      <th>year</th>\n",
       "      <th>quarter</th>\n",
       "      <th>parking_spaces</th>\n",
       "      <th>peak_empty_spaces</th>\n",
       "      <th>peak_occupied_spaces</th>\n",
       "      <th>%_occupied</th>\n",
       "      <th>Time of the day</th>\n",
       "      <th>Empty Spots</th>\n",
       "    </tr>\n",
       "  </thead>\n",
       "  <tbody>\n",
       "    <tr>\n",
       "      <th>0</th>\n",
       "      <td>2000/01</td>\n",
       "      <td>Summer</td>\n",
       "      <td>6474.0</td>\n",
       "      <td>3929.0</td>\n",
       "      <td>2545.0</td>\n",
       "      <td>0.39</td>\n",
       "      <td>8am</td>\n",
       "      <td>4882.0</td>\n",
       "    </tr>\n",
       "    <tr>\n",
       "      <th>1</th>\n",
       "      <td>2000/01</td>\n",
       "      <td>Fall</td>\n",
       "      <td>6527.0</td>\n",
       "      <td>935.0</td>\n",
       "      <td>5592.0</td>\n",
       "      <td>0.86</td>\n",
       "      <td>8am</td>\n",
       "      <td>3713.0</td>\n",
       "    </tr>\n",
       "    <tr>\n",
       "      <th>2</th>\n",
       "      <td>2000/01</td>\n",
       "      <td>Winter</td>\n",
       "      <td>7203.0</td>\n",
       "      <td>1588.0</td>\n",
       "      <td>5615.0</td>\n",
       "      <td>0.78</td>\n",
       "      <td>8am</td>\n",
       "      <td>4196.0</td>\n",
       "    </tr>\n",
       "    <tr>\n",
       "      <th>3</th>\n",
       "      <td>2000/01</td>\n",
       "      <td>Spring</td>\n",
       "      <td>7205.0</td>\n",
       "      <td>1636.0</td>\n",
       "      <td>5569.0</td>\n",
       "      <td>0.77</td>\n",
       "      <td>8am</td>\n",
       "      <td>4267.0</td>\n",
       "    </tr>\n",
       "    <tr>\n",
       "      <th>4</th>\n",
       "      <td>2001/02</td>\n",
       "      <td>Summer</td>\n",
       "      <td>7243.0</td>\n",
       "      <td>4533.0</td>\n",
       "      <td>2710.0</td>\n",
       "      <td>0.37</td>\n",
       "      <td>8am</td>\n",
       "      <td>5646.0</td>\n",
       "    </tr>\n",
       "    <tr>\n",
       "      <th>5</th>\n",
       "      <td>2001/02</td>\n",
       "      <td>Fall</td>\n",
       "      <td>7043.0</td>\n",
       "      <td>1241.0</td>\n",
       "      <td>5802.0</td>\n",
       "      <td>0.82</td>\n",
       "      <td>8am</td>\n",
       "      <td>4240.0</td>\n",
       "    </tr>\n",
       "    <tr>\n",
       "      <th>6</th>\n",
       "      <td>2001/02</td>\n",
       "      <td>Winter</td>\n",
       "      <td>7151.0</td>\n",
       "      <td>1075.0</td>\n",
       "      <td>6076.0</td>\n",
       "      <td>0.85</td>\n",
       "      <td>8am</td>\n",
       "      <td>4266.0</td>\n",
       "    </tr>\n",
       "    <tr>\n",
       "      <th>7</th>\n",
       "      <td>2001/02</td>\n",
       "      <td>Spring</td>\n",
       "      <td>7150.0</td>\n",
       "      <td>1171.0</td>\n",
       "      <td>5979.0</td>\n",
       "      <td>0.84</td>\n",
       "      <td>8am</td>\n",
       "      <td>4222.0</td>\n",
       "    </tr>\n",
       "    <tr>\n",
       "      <th>8</th>\n",
       "      <td>2002/03</td>\n",
       "      <td>Summer</td>\n",
       "      <td>7044.0</td>\n",
       "      <td>3585.0</td>\n",
       "      <td>3459.0</td>\n",
       "      <td>0.49</td>\n",
       "      <td>8am</td>\n",
       "      <td>4752.0</td>\n",
       "    </tr>\n",
       "    <tr>\n",
       "      <th>9</th>\n",
       "      <td>2002/03</td>\n",
       "      <td>Fall</td>\n",
       "      <td>7024.0</td>\n",
       "      <td>990.0</td>\n",
       "      <td>6034.0</td>\n",
       "      <td>0.86</td>\n",
       "      <td>8am</td>\n",
       "      <td>4231.0</td>\n",
       "    </tr>\n",
       "    <tr>\n",
       "      <th>10</th>\n",
       "      <td>2002/03</td>\n",
       "      <td>Winter</td>\n",
       "      <td>6842.0</td>\n",
       "      <td>761.0</td>\n",
       "      <td>6081.0</td>\n",
       "      <td>0.89</td>\n",
       "      <td>8am</td>\n",
       "      <td>4073.0</td>\n",
       "    </tr>\n",
       "    <tr>\n",
       "      <th>11</th>\n",
       "      <td>2002/03</td>\n",
       "      <td>Spring</td>\n",
       "      <td>6852.0</td>\n",
       "      <td>873.0</td>\n",
       "      <td>5979.0</td>\n",
       "      <td>0.87</td>\n",
       "      <td>8am</td>\n",
       "      <td>4161.0</td>\n",
       "    </tr>\n",
       "    <tr>\n",
       "      <th>12</th>\n",
       "      <td>2003/04</td>\n",
       "      <td>Summer</td>\n",
       "      <td>6732.0</td>\n",
       "      <td>2508.0</td>\n",
       "      <td>4224.0</td>\n",
       "      <td>0.63</td>\n",
       "      <td>8am</td>\n",
       "      <td>3310.0</td>\n",
       "    </tr>\n",
       "    <tr>\n",
       "      <th>13</th>\n",
       "      <td>2003/04</td>\n",
       "      <td>Fall</td>\n",
       "      <td>6699.0</td>\n",
       "      <td>1022.0</td>\n",
       "      <td>5677.0</td>\n",
       "      <td>0.85</td>\n",
       "      <td>8am</td>\n",
       "      <td>3527.0</td>\n",
       "    </tr>\n",
       "    <tr>\n",
       "      <th>14</th>\n",
       "      <td>2003/04</td>\n",
       "      <td>Winter</td>\n",
       "      <td>6702.0</td>\n",
       "      <td>924.0</td>\n",
       "      <td>5778.0</td>\n",
       "      <td>0.86</td>\n",
       "      <td>8am</td>\n",
       "      <td>3549.0</td>\n",
       "    </tr>\n",
       "    <tr>\n",
       "      <th>15</th>\n",
       "      <td>2003/04</td>\n",
       "      <td>Spring</td>\n",
       "      <td>6693.0</td>\n",
       "      <td>910.0</td>\n",
       "      <td>5783.0</td>\n",
       "      <td>0.86</td>\n",
       "      <td>8am</td>\n",
       "      <td>3368.0</td>\n",
       "    </tr>\n",
       "    <tr>\n",
       "      <th>16</th>\n",
       "      <td>2004/05</td>\n",
       "      <td>Summer</td>\n",
       "      <td>6690.0</td>\n",
       "      <td>3849.0</td>\n",
       "      <td>2841.0</td>\n",
       "      <td>0.42</td>\n",
       "      <td>8am</td>\n",
       "      <td>4844.0</td>\n",
       "    </tr>\n",
       "    <tr>\n",
       "      <th>17</th>\n",
       "      <td>2004/05</td>\n",
       "      <td>Fall</td>\n",
       "      <td>7038.0</td>\n",
       "      <td>1342.0</td>\n",
       "      <td>5696.0</td>\n",
       "      <td>0.81</td>\n",
       "      <td>8am</td>\n",
       "      <td>3885.0</td>\n",
       "    </tr>\n",
       "    <tr>\n",
       "      <th>18</th>\n",
       "      <td>2004/05</td>\n",
       "      <td>Winter</td>\n",
       "      <td>6564.0</td>\n",
       "      <td>1077.0</td>\n",
       "      <td>5487.0</td>\n",
       "      <td>0.84</td>\n",
       "      <td>8am</td>\n",
       "      <td>3480.0</td>\n",
       "    </tr>\n",
       "    <tr>\n",
       "      <th>19</th>\n",
       "      <td>2004/05</td>\n",
       "      <td>Spring</td>\n",
       "      <td>6662.0</td>\n",
       "      <td>1124.0</td>\n",
       "      <td>5538.0</td>\n",
       "      <td>0.83</td>\n",
       "      <td>8am</td>\n",
       "      <td>3584.0</td>\n",
       "    </tr>\n",
       "    <tr>\n",
       "      <th>20</th>\n",
       "      <td>2005/06</td>\n",
       "      <td>Summer</td>\n",
       "      <td>6560.0</td>\n",
       "      <td>3853.0</td>\n",
       "      <td>2707.0</td>\n",
       "      <td>0.41</td>\n",
       "      <td>8am</td>\n",
       "      <td>4790.0</td>\n",
       "    </tr>\n",
       "    <tr>\n",
       "      <th>21</th>\n",
       "      <td>2005/06</td>\n",
       "      <td>Fall</td>\n",
       "      <td>6460.0</td>\n",
       "      <td>1253.0</td>\n",
       "      <td>5207.0</td>\n",
       "      <td>0.81</td>\n",
       "      <td>8am</td>\n",
       "      <td>3644.0</td>\n",
       "    </tr>\n",
       "    <tr>\n",
       "      <th>22</th>\n",
       "      <td>2005/06</td>\n",
       "      <td>Winter</td>\n",
       "      <td>6452.0</td>\n",
       "      <td>1181.0</td>\n",
       "      <td>5271.0</td>\n",
       "      <td>0.82</td>\n",
       "      <td>8am</td>\n",
       "      <td>3586.0</td>\n",
       "    </tr>\n",
       "    <tr>\n",
       "      <th>23</th>\n",
       "      <td>2005/06</td>\n",
       "      <td>Spring</td>\n",
       "      <td>6447.0</td>\n",
       "      <td>1250.0</td>\n",
       "      <td>5197.0</td>\n",
       "      <td>0.81</td>\n",
       "      <td>8am</td>\n",
       "      <td>3418.0</td>\n",
       "    </tr>\n",
       "    <tr>\n",
       "      <th>24</th>\n",
       "      <td>2006/07</td>\n",
       "      <td>Summer</td>\n",
       "      <td>6450.0</td>\n",
       "      <td>3456.0</td>\n",
       "      <td>2994.0</td>\n",
       "      <td>0.46</td>\n",
       "      <td>8am</td>\n",
       "      <td>4350.0</td>\n",
       "    </tr>\n",
       "    <tr>\n",
       "      <th>25</th>\n",
       "      <td>2006/07</td>\n",
       "      <td>Fall</td>\n",
       "      <td>6351.0</td>\n",
       "      <td>1629.0</td>\n",
       "      <td>4722.0</td>\n",
       "      <td>0.74</td>\n",
       "      <td>8am</td>\n",
       "      <td>3639.0</td>\n",
       "    </tr>\n",
       "    <tr>\n",
       "      <th>26</th>\n",
       "      <td>2006/07</td>\n",
       "      <td>Winter</td>\n",
       "      <td>6331.0</td>\n",
       "      <td>1183.0</td>\n",
       "      <td>5148.0</td>\n",
       "      <td>0.81</td>\n",
       "      <td>8am</td>\n",
       "      <td>3187.0</td>\n",
       "    </tr>\n",
       "    <tr>\n",
       "      <th>27</th>\n",
       "      <td>2006/07</td>\n",
       "      <td>Spring</td>\n",
       "      <td>6332.0</td>\n",
       "      <td>1306.0</td>\n",
       "      <td>5026.0</td>\n",
       "      <td>0.79</td>\n",
       "      <td>8am</td>\n",
       "      <td>3353.0</td>\n",
       "    </tr>\n",
       "    <tr>\n",
       "      <th>28</th>\n",
       "      <td>2007/08</td>\n",
       "      <td>Summer</td>\n",
       "      <td>6148.0</td>\n",
       "      <td>3236.0</td>\n",
       "      <td>2912.0</td>\n",
       "      <td>0.47</td>\n",
       "      <td>8am</td>\n",
       "      <td>4037.0</td>\n",
       "    </tr>\n",
       "    <tr>\n",
       "      <th>29</th>\n",
       "      <td>2007/08</td>\n",
       "      <td>Fall</td>\n",
       "      <td>6220.0</td>\n",
       "      <td>1399.0</td>\n",
       "      <td>4821.0</td>\n",
       "      <td>0.78</td>\n",
       "      <td>8am</td>\n",
       "      <td>3230.0</td>\n",
       "    </tr>\n",
       "    <tr>\n",
       "      <th>...</th>\n",
       "      <td>...</td>\n",
       "      <td>...</td>\n",
       "      <td>...</td>\n",
       "      <td>...</td>\n",
       "      <td>...</td>\n",
       "      <td>...</td>\n",
       "      <td>...</td>\n",
       "      <td>...</td>\n",
       "    </tr>\n",
       "    <tr>\n",
       "      <th>570</th>\n",
       "      <td>2007/08</td>\n",
       "      <td>Winter</td>\n",
       "      <td>6223.0</td>\n",
       "      <td>1791.0</td>\n",
       "      <td>4432.0</td>\n",
       "      <td>0.71</td>\n",
       "      <td>5pm</td>\n",
       "      <td>2530.0</td>\n",
       "    </tr>\n",
       "    <tr>\n",
       "      <th>571</th>\n",
       "      <td>2007/08</td>\n",
       "      <td>Spring</td>\n",
       "      <td>6213.0</td>\n",
       "      <td>1765.0</td>\n",
       "      <td>4448.0</td>\n",
       "      <td>0.72</td>\n",
       "      <td>5pm</td>\n",
       "      <td>2529.0</td>\n",
       "    </tr>\n",
       "    <tr>\n",
       "      <th>572</th>\n",
       "      <td>2008/09</td>\n",
       "      <td>Summer</td>\n",
       "      <td>6213.0</td>\n",
       "      <td>3276.0</td>\n",
       "      <td>2937.0</td>\n",
       "      <td>0.47</td>\n",
       "      <td>5pm</td>\n",
       "      <td>3787.0</td>\n",
       "    </tr>\n",
       "    <tr>\n",
       "      <th>573</th>\n",
       "      <td>2008/09</td>\n",
       "      <td>Fall</td>\n",
       "      <td>5966.0</td>\n",
       "      <td>1722.0</td>\n",
       "      <td>4244.0</td>\n",
       "      <td>0.71</td>\n",
       "      <td>5pm</td>\n",
       "      <td>2556.0</td>\n",
       "    </tr>\n",
       "    <tr>\n",
       "      <th>574</th>\n",
       "      <td>2008/09</td>\n",
       "      <td>Winter</td>\n",
       "      <td>5835.0</td>\n",
       "      <td>1745.0</td>\n",
       "      <td>4090.0</td>\n",
       "      <td>0.70</td>\n",
       "      <td>5pm</td>\n",
       "      <td>2450.0</td>\n",
       "    </tr>\n",
       "    <tr>\n",
       "      <th>575</th>\n",
       "      <td>2008/09</td>\n",
       "      <td>Spring</td>\n",
       "      <td>5499.0</td>\n",
       "      <td>1653.0</td>\n",
       "      <td>3846.0</td>\n",
       "      <td>0.70</td>\n",
       "      <td>5pm</td>\n",
       "      <td>2301.0</td>\n",
       "    </tr>\n",
       "    <tr>\n",
       "      <th>576</th>\n",
       "      <td>2009/10</td>\n",
       "      <td>Summer</td>\n",
       "      <td>5574.0</td>\n",
       "      <td>3186.0</td>\n",
       "      <td>2388.0</td>\n",
       "      <td>0.43</td>\n",
       "      <td>5pm</td>\n",
       "      <td>3900.0</td>\n",
       "    </tr>\n",
       "    <tr>\n",
       "      <th>577</th>\n",
       "      <td>2009/10</td>\n",
       "      <td>Fall</td>\n",
       "      <td>5314.0</td>\n",
       "      <td>1610.0</td>\n",
       "      <td>3704.0</td>\n",
       "      <td>0.70</td>\n",
       "      <td>5pm</td>\n",
       "      <td>2392.0</td>\n",
       "    </tr>\n",
       "    <tr>\n",
       "      <th>578</th>\n",
       "      <td>2009/10</td>\n",
       "      <td>Winter</td>\n",
       "      <td>5037.0</td>\n",
       "      <td>1299.0</td>\n",
       "      <td>3738.0</td>\n",
       "      <td>0.74</td>\n",
       "      <td>5pm</td>\n",
       "      <td>2039.0</td>\n",
       "    </tr>\n",
       "    <tr>\n",
       "      <th>579</th>\n",
       "      <td>2009/10</td>\n",
       "      <td>Spring</td>\n",
       "      <td>5091.0</td>\n",
       "      <td>1264.0</td>\n",
       "      <td>3827.0</td>\n",
       "      <td>0.75</td>\n",
       "      <td>5pm</td>\n",
       "      <td>2087.0</td>\n",
       "    </tr>\n",
       "    <tr>\n",
       "      <th>580</th>\n",
       "      <td>2010/11</td>\n",
       "      <td>Summer</td>\n",
       "      <td>5088.0</td>\n",
       "      <td>2926.0</td>\n",
       "      <td>2162.0</td>\n",
       "      <td>0.42</td>\n",
       "      <td>5pm</td>\n",
       "      <td>3762.0</td>\n",
       "    </tr>\n",
       "    <tr>\n",
       "      <th>581</th>\n",
       "      <td>2010/11</td>\n",
       "      <td>Fall</td>\n",
       "      <td>5058.0</td>\n",
       "      <td>1353.0</td>\n",
       "      <td>3705.0</td>\n",
       "      <td>0.73</td>\n",
       "      <td>5pm</td>\n",
       "      <td>2067.0</td>\n",
       "    </tr>\n",
       "    <tr>\n",
       "      <th>582</th>\n",
       "      <td>2010/11</td>\n",
       "      <td>Winter</td>\n",
       "      <td>4586.0</td>\n",
       "      <td>838.0</td>\n",
       "      <td>3748.0</td>\n",
       "      <td>0.82</td>\n",
       "      <td>5pm</td>\n",
       "      <td>1523.0</td>\n",
       "    </tr>\n",
       "    <tr>\n",
       "      <th>583</th>\n",
       "      <td>2010/11</td>\n",
       "      <td>Spring</td>\n",
       "      <td>4510.0</td>\n",
       "      <td>803.0</td>\n",
       "      <td>3707.0</td>\n",
       "      <td>0.82</td>\n",
       "      <td>5pm</td>\n",
       "      <td>1423.0</td>\n",
       "    </tr>\n",
       "    <tr>\n",
       "      <th>584</th>\n",
       "      <td>2011/12</td>\n",
       "      <td>Summer</td>\n",
       "      <td>4490.0</td>\n",
       "      <td>1838.0</td>\n",
       "      <td>2652.0</td>\n",
       "      <td>0.59</td>\n",
       "      <td>5pm</td>\n",
       "      <td>2541.0</td>\n",
       "    </tr>\n",
       "    <tr>\n",
       "      <th>585</th>\n",
       "      <td>2011/12</td>\n",
       "      <td>Fall</td>\n",
       "      <td>4651.0</td>\n",
       "      <td>1267.0</td>\n",
       "      <td>3384.0</td>\n",
       "      <td>0.73</td>\n",
       "      <td>5pm</td>\n",
       "      <td>1796.0</td>\n",
       "    </tr>\n",
       "    <tr>\n",
       "      <th>586</th>\n",
       "      <td>2011/12</td>\n",
       "      <td>Winter</td>\n",
       "      <td>4627.0</td>\n",
       "      <td>1322.0</td>\n",
       "      <td>3305.0</td>\n",
       "      <td>0.71</td>\n",
       "      <td>5pm</td>\n",
       "      <td>1889.0</td>\n",
       "    </tr>\n",
       "    <tr>\n",
       "      <th>587</th>\n",
       "      <td>2011/12</td>\n",
       "      <td>Spring</td>\n",
       "      <td>4626.0</td>\n",
       "      <td>1168.0</td>\n",
       "      <td>3458.0</td>\n",
       "      <td>0.75</td>\n",
       "      <td>5pm</td>\n",
       "      <td>1659.0</td>\n",
       "    </tr>\n",
       "    <tr>\n",
       "      <th>588</th>\n",
       "      <td>2012/13</td>\n",
       "      <td>Summer</td>\n",
       "      <td>4663.0</td>\n",
       "      <td>2688.0</td>\n",
       "      <td>1975.0</td>\n",
       "      <td>0.42</td>\n",
       "      <td>5pm</td>\n",
       "      <td>3208.0</td>\n",
       "    </tr>\n",
       "    <tr>\n",
       "      <th>589</th>\n",
       "      <td>2012/13</td>\n",
       "      <td>Fall</td>\n",
       "      <td>4689.0</td>\n",
       "      <td>1249.0</td>\n",
       "      <td>3440.0</td>\n",
       "      <td>0.73</td>\n",
       "      <td>5pm</td>\n",
       "      <td>1728.0</td>\n",
       "    </tr>\n",
       "    <tr>\n",
       "      <th>590</th>\n",
       "      <td>2012/13</td>\n",
       "      <td>Winter</td>\n",
       "      <td>4694.0</td>\n",
       "      <td>1189.0</td>\n",
       "      <td>3505.0</td>\n",
       "      <td>0.75</td>\n",
       "      <td>5pm</td>\n",
       "      <td>1724.0</td>\n",
       "    </tr>\n",
       "    <tr>\n",
       "      <th>591</th>\n",
       "      <td>2012/13</td>\n",
       "      <td>Spring</td>\n",
       "      <td>4694.0</td>\n",
       "      <td>1203.0</td>\n",
       "      <td>3491.0</td>\n",
       "      <td>0.74</td>\n",
       "      <td>5pm</td>\n",
       "      <td>1750.0</td>\n",
       "    </tr>\n",
       "    <tr>\n",
       "      <th>592</th>\n",
       "      <td>2013/14</td>\n",
       "      <td>Summer</td>\n",
       "      <td>4693.0</td>\n",
       "      <td>2557.0</td>\n",
       "      <td>2136.0</td>\n",
       "      <td>0.46</td>\n",
       "      <td>5pm</td>\n",
       "      <td>3155.0</td>\n",
       "    </tr>\n",
       "    <tr>\n",
       "      <th>593</th>\n",
       "      <td>2013/14</td>\n",
       "      <td>Fall</td>\n",
       "      <td>4692.0</td>\n",
       "      <td>838.0</td>\n",
       "      <td>3854.0</td>\n",
       "      <td>0.82</td>\n",
       "      <td>5pm</td>\n",
       "      <td>1507.0</td>\n",
       "    </tr>\n",
       "    <tr>\n",
       "      <th>594</th>\n",
       "      <td>2013/14</td>\n",
       "      <td>Winter</td>\n",
       "      <td>4686.0</td>\n",
       "      <td>894.0</td>\n",
       "      <td>3792.0</td>\n",
       "      <td>0.81</td>\n",
       "      <td>5pm</td>\n",
       "      <td>1543.0</td>\n",
       "    </tr>\n",
       "    <tr>\n",
       "      <th>595</th>\n",
       "      <td>2013/14</td>\n",
       "      <td>Spring</td>\n",
       "      <td>4686.0</td>\n",
       "      <td>866.0</td>\n",
       "      <td>3820.0</td>\n",
       "      <td>0.82</td>\n",
       "      <td>5pm</td>\n",
       "      <td>1690.0</td>\n",
       "    </tr>\n",
       "    <tr>\n",
       "      <th>596</th>\n",
       "      <td>2014/15</td>\n",
       "      <td>Summer</td>\n",
       "      <td>4703.0</td>\n",
       "      <td>2161.0</td>\n",
       "      <td>2542.0</td>\n",
       "      <td>0.54</td>\n",
       "      <td>5pm</td>\n",
       "      <td>3094.0</td>\n",
       "    </tr>\n",
       "    <tr>\n",
       "      <th>597</th>\n",
       "      <td>2014/15</td>\n",
       "      <td>Fall</td>\n",
       "      <td>4648.0</td>\n",
       "      <td>593.0</td>\n",
       "      <td>4055.0</td>\n",
       "      <td>0.87</td>\n",
       "      <td>5pm</td>\n",
       "      <td>1424.0</td>\n",
       "    </tr>\n",
       "    <tr>\n",
       "      <th>598</th>\n",
       "      <td>2014/15</td>\n",
       "      <td>Winter</td>\n",
       "      <td>4648.0</td>\n",
       "      <td>619.0</td>\n",
       "      <td>4029.0</td>\n",
       "      <td>0.87</td>\n",
       "      <td>5pm</td>\n",
       "      <td>1507.0</td>\n",
       "    </tr>\n",
       "    <tr>\n",
       "      <th>599</th>\n",
       "      <td>2014/15</td>\n",
       "      <td>Spring</td>\n",
       "      <td>4640.0</td>\n",
       "      <td>677.0</td>\n",
       "      <td>3963.0</td>\n",
       "      <td>0.85</td>\n",
       "      <td>5pm</td>\n",
       "      <td>1572.0</td>\n",
       "    </tr>\n",
       "  </tbody>\n",
       "</table>\n",
       "<p>600 rows × 8 columns</p>\n",
       "</div>"
      ],
      "text/plain": [
       "        year quarter  parking_spaces  peak_empty_spaces  peak_occupied_spaces  \\\n",
       "0    2000/01  Summer          6474.0             3929.0                2545.0   \n",
       "1    2000/01    Fall          6527.0              935.0                5592.0   \n",
       "2    2000/01  Winter          7203.0             1588.0                5615.0   \n",
       "3    2000/01  Spring          7205.0             1636.0                5569.0   \n",
       "4    2001/02  Summer          7243.0             4533.0                2710.0   \n",
       "..       ...     ...             ...                ...                   ...   \n",
       "595  2013/14  Spring          4686.0              866.0                3820.0   \n",
       "596  2014/15  Summer          4703.0             2161.0                2542.0   \n",
       "597  2014/15    Fall          4648.0              593.0                4055.0   \n",
       "598  2014/15  Winter          4648.0              619.0                4029.0   \n",
       "599  2014/15  Spring          4640.0              677.0                3963.0   \n",
       "\n",
       "     %_occupied Time of the day  Empty Spots  \n",
       "0          0.39             8am       4882.0  \n",
       "1          0.86             8am       3713.0  \n",
       "2          0.78             8am       4196.0  \n",
       "3          0.77             8am       4267.0  \n",
       "4          0.37             8am       5646.0  \n",
       "..          ...             ...          ...  \n",
       "595        0.82             5pm       1690.0  \n",
       "596        0.54             5pm       3094.0  \n",
       "597        0.87             5pm       1424.0  \n",
       "598        0.87             5pm       1507.0  \n",
       "599        0.85             5pm       1572.0  \n",
       "\n",
       "[600 rows x 8 columns]"
      ]
     },
     "execution_count": 7,
     "metadata": {},
     "output_type": "execute_result"
    }
   ],
   "source": [
    "df_La_Jolla_S_new = df_La_Jolla_S.melt(id_vars=[\"year\", \"quarter\", \"parking_spaces\", \"peak_empty_spaces\", \"peak_occupied_spaces\", \"%_occupied\"], \n",
    "        var_name=\"Time of the day\", \n",
    "        value_name=\"Empty Spots\")\n",
    "\n",
    "df_La_Jolla_S_new"
   ]
  },
  {
   "cell_type": "code",
   "execution_count": 8,
   "metadata": {},
   "outputs": [
    {
     "data": {
      "text/plain": [
       "2740.3"
      ]
     },
     "execution_count": 8,
     "metadata": {},
     "output_type": "execute_result"
    }
   ],
   "source": [
    "df_La_Jolla_S_new_2000 = df_La_Jolla_S_new[df_La_Jolla_S_new.year == '2000/01']\n",
    "df_La_Jolla_S_new_2000[\"Empty Spots\"].mean()"
   ]
  },
  {
   "cell_type": "code",
   "execution_count": 9,
   "metadata": {},
   "outputs": [
    {
     "data": {
      "text/plain": [
       "2300.15"
      ]
     },
     "execution_count": 9,
     "metadata": {},
     "output_type": "execute_result"
    }
   ],
   "source": [
    "df_La_Jolla_S_new_2015 = df_La_Jolla_S_new[df_La_Jolla_S_new.year == '2009/10']\n",
    "df_La_Jolla_S_new_2015[\"Empty Spots\"].mean()"
   ]
  },
  {
   "cell_type": "code",
   "execution_count": 10,
   "metadata": {},
   "outputs": [
    {
     "data": {
      "text/plain": [
       "1449.95"
      ]
     },
     "execution_count": 10,
     "metadata": {},
     "output_type": "execute_result"
    }
   ],
   "source": [
    "df_La_Jolla_S_new_2014 = df_La_Jolla_S_new[df_La_Jolla_S_new.year == '2014/15']\n",
    "df_La_Jolla_S_new_2014[\"Empty Spots\"].mean()"
   ]
  },
  {
   "cell_type": "markdown",
   "metadata": {},
   "source": [
    "### Average Empty spots for Time of the day (S-spot)"
   ]
  },
  {
   "cell_type": "code",
   "execution_count": 13,
   "metadata": {},
   "outputs": [],
   "source": [
    "df_La_Jolla_S_new = df_La_Jolla_S_new.rename(columns={\"Time of the day\": \"Time\"})\n",
    "\n",
    "df_La_Jolla_S_new_8am = df_La_Jolla_S_new[df_La_Jolla_S_new.Time == '8am']\n",
    "x1 = df_La_Jolla_S_new_8am[\"Empty Spots\"].mean()\n",
    "df_La_Jolla_S_new_9am = df_La_Jolla_S_new[df_La_Jolla_S_new.Time == '9am']\n",
    "x2 = df_La_Jolla_S_new_9am[\"Empty Spots\"].mean()\n",
    "df_La_Jolla_S_new_10am = df_La_Jolla_S_new[df_La_Jolla_S_new.Time == '10am']\n",
    "x3 = df_La_Jolla_S_new_10am[\"Empty Spots\"].mean()\n",
    "df_La_Jolla_S_new_11am = df_La_Jolla_S_new[df_La_Jolla_S_new.Time == '11am']\n",
    "x4 = df_La_Jolla_S_new_11am[\"Empty Spots\"].mean()\n",
    "df_La_Jolla_S_new_12am = df_La_Jolla_S_new[df_La_Jolla_S_new.Time == '12pm']\n",
    "x5 = df_La_Jolla_S_new_12am[\"Empty Spots\"].mean()\n",
    "df_La_Jolla_S_new_1pm = df_La_Jolla_S_new[df_La_Jolla_S_new.Time == '1pm']\n",
    "x6 = df_La_Jolla_S_new_1pm[\"Empty Spots\"].mean()\n",
    "df_La_Jolla_S_new_2pm = df_La_Jolla_S_new[df_La_Jolla_S_new.Time == '2pm']\n",
    "x7 = df_La_Jolla_S_new_2pm[\"Empty Spots\"].mean()\n",
    "df_La_Jolla_S_new_3pm = df_La_Jolla_S_new[df_La_Jolla_S_new.Time == '3pm']\n",
    "x8 = df_La_Jolla_S_new_3pm[\"Empty Spots\"].mean()\n",
    "df_La_Jolla_S_new_4pm = df_La_Jolla_S_new[df_La_Jolla_S_new.Time == '4pm']\n",
    "x9 = df_La_Jolla_S_new_4pm[\"Empty Spots\"].mean()\n",
    "df_La_Jolla_S_new_5pm = df_La_Jolla_S_new[df_La_Jolla_S_new.Time == '5pm']\n",
    "x10 = df_La_Jolla_S_new_5pm[\"Empty Spots\"].mean()"
   ]
  },
  {
   "cell_type": "code",
   "execution_count": 14,
   "metadata": {
    "scrolled": true
   },
   "outputs": [
    {
     "data": {
      "image/png": "[encoded data removed]",
      "text/plain": [
       "<Figure size 432x288 with 1 Axes>"
      ]
     },
     "metadata": {
      "needs_background": "light"
     },
     "output_type": "display_data"
    }
   ],
   "source": [
    "Times = ('8am', '9am', '10am', '11am', '12pm', '1pm', '2pm', '3pm', '4pm', '5pm')\n",
    "y_pos = np.arange(len(Times))\n",
    "performance = [x1,x2,x3,x4,x5,x6,x7,x8,x9,x10]\n",
    "\n",
    "plt.bar(y_pos, performance, align='center', alpha=0.5)\n",
    "plt.xticks(y_pos, Times)\n",
    "plt.ylabel('Empty Spots')\n",
    "plt.title('Empty Spots of the Day on Average S Permit')\n",
    "\n",
    "plt.show()"
   ]
  },
  {
   "cell_type": "markdown",
   "metadata": {},
   "source": [
    "## Max and Min Empty Spots for S parking permit"
   ]
  },
  {
   "cell_type": "code",
   "execution_count": 15,
   "metadata": {},
   "outputs": [
    {
     "data": {
      "text/plain": [
       "year                    2001/02\n",
       "quarter                  Summer\n",
       "parking_spaces             7243\n",
       "peak_empty_spaces          4533\n",
       "peak_occupied_spaces       2710\n",
       "%_occupied                 0.37\n",
       "Time                        8am\n",
       "Empty Spots                5646\n",
       "Name: 4, dtype: object"
      ]
     },
     "execution_count": 15,
     "metadata": {},
     "output_type": "execute_result"
    }
   ],
   "source": [
    "df_La_Jolla_S_new.loc[df_La_Jolla_S_new['Empty Spots'].idxmax()]"
   ]
  },
  {
   "cell_type": "code",
   "execution_count": 16,
   "metadata": {},
   "outputs": [
    {
     "data": {
      "text/plain": [
       "year                    2014/15\n",
       "quarter                    Fall\n",
       "parking_spaces             4648\n",
       "peak_empty_spaces           593\n",
       "peak_occupied_spaces       4055\n",
       "%_occupied                 0.87\n",
       "Time                        2pm\n",
       "Empty Spots                 593\n",
       "Name: 417, dtype: object"
      ]
     },
     "execution_count": 16,
     "metadata": {},
     "output_type": "execute_result"
    }
   ],
   "source": [
    "df_La_Jolla_S_new.loc[df_La_Jolla_S_new['Empty Spots'].idxmin()]"
   ]
  },
  {
   "cell_type": "markdown",
   "metadata": {},
   "source": [
    "## A Parking Spaces (By Location) (La Jolla Campus)"
   ]
  },
  {
   "cell_type": "code",
   "execution_count": 18,
   "metadata": {},
   "outputs": [],
   "source": [
    "df_La_Jolla_A = pd.read_csv(\"/home/ktantipa/ECE143_FinalProject/csv_data/By-Location/La_Jolla_Campus__A_Parking_Spaces.csv\")"
   ]
  },
  {
   "cell_type": "code",
   "execution_count": 19,
   "metadata": {
    "scrolled": true
   },
   "outputs": [
    {
     "data": {
      "text/html": [
       "<div>\n",
       "<style scoped>\n",
       "    .dataframe tbody tr th:only-of-type {\n",
       "        vertical-align: middle;\n",
       "    }\n",
       "\n",
       "    .dataframe tbody tr th {\n",
       "        vertical-align: top;\n",
       "    }\n",
       "\n",
       "    .dataframe thead th {\n",
       "        text-align: right;\n",
       "    }\n",
       "</style>\n",
       "<table border=\"1\" class=\"dataframe\">\n",
       "  <thead>\n",
       "    <tr style=\"text-align: right;\">\n",
       "      <th></th>\n",
       "      <th>year</th>\n",
       "      <th>quarter</th>\n",
       "      <th>parking_spaces</th>\n",
       "      <th>8am</th>\n",
       "      <th>9am</th>\n",
       "      <th>10am</th>\n",
       "      <th>11am</th>\n",
       "      <th>12pm</th>\n",
       "      <th>1pm</th>\n",
       "      <th>2pm</th>\n",
       "      <th>3pm</th>\n",
       "      <th>4pm</th>\n",
       "      <th>5pm</th>\n",
       "      <th>peak_empty_spaces</th>\n",
       "      <th>peak_occupied_spaces</th>\n",
       "      <th>%_occupied</th>\n",
       "    </tr>\n",
       "  </thead>\n",
       "  <tbody>\n",
       "    <tr>\n",
       "      <th>0</th>\n",
       "      <td>2000/01</td>\n",
       "      <td>Summer</td>\n",
       "      <td>1616.0</td>\n",
       "      <td>1207.0</td>\n",
       "      <td>950.0</td>\n",
       "      <td>675.0</td>\n",
       "      <td>526.0</td>\n",
       "      <td>505.0</td>\n",
       "      <td>534.0</td>\n",
       "      <td>545.0</td>\n",
       "      <td>564.0</td>\n",
       "      <td>643.0</td>\n",
       "      <td>794.0</td>\n",
       "      <td>505.0</td>\n",
       "      <td>1111.0</td>\n",
       "      <td>0.69</td>\n",
       "    </tr>\n",
       "    <tr>\n",
       "      <th>1</th>\n",
       "      <td>2000/01</td>\n",
       "      <td>Fall</td>\n",
       "      <td>1691.0</td>\n",
       "      <td>1198.0</td>\n",
       "      <td>850.0</td>\n",
       "      <td>512.0</td>\n",
       "      <td>330.0</td>\n",
       "      <td>281.0</td>\n",
       "      <td>296.0</td>\n",
       "      <td>282.0</td>\n",
       "      <td>328.0</td>\n",
       "      <td>435.0</td>\n",
       "      <td>540.0</td>\n",
       "      <td>281.0</td>\n",
       "      <td>1410.0</td>\n",
       "      <td>0.83</td>\n",
       "    </tr>\n",
       "    <tr>\n",
       "      <th>2</th>\n",
       "      <td>2000/01</td>\n",
       "      <td>Winter</td>\n",
       "      <td>1735.0</td>\n",
       "      <td>1236.0</td>\n",
       "      <td>880.0</td>\n",
       "      <td>571.0</td>\n",
       "      <td>390.0</td>\n",
       "      <td>351.0</td>\n",
       "      <td>336.0</td>\n",
       "      <td>332.0</td>\n",
       "      <td>361.0</td>\n",
       "      <td>464.0</td>\n",
       "      <td>559.0</td>\n",
       "      <td>332.0</td>\n",
       "      <td>1403.0</td>\n",
       "      <td>0.81</td>\n",
       "    </tr>\n",
       "    <tr>\n",
       "      <th>3</th>\n",
       "      <td>2000/01</td>\n",
       "      <td>Spring</td>\n",
       "      <td>1731.0</td>\n",
       "      <td>1243.0</td>\n",
       "      <td>887.0</td>\n",
       "      <td>586.0</td>\n",
       "      <td>435.0</td>\n",
       "      <td>367.0</td>\n",
       "      <td>357.0</td>\n",
       "      <td>356.0</td>\n",
       "      <td>398.0</td>\n",
       "      <td>485.0</td>\n",
       "      <td>589.0</td>\n",
       "      <td>356.0</td>\n",
       "      <td>1375.0</td>\n",
       "      <td>0.79</td>\n",
       "    </tr>\n",
       "    <tr>\n",
       "      <th>4</th>\n",
       "      <td>2001/02</td>\n",
       "      <td>Summer</td>\n",
       "      <td>1677.0</td>\n",
       "      <td>1281.0</td>\n",
       "      <td>993.0</td>\n",
       "      <td>760.0</td>\n",
       "      <td>599.0</td>\n",
       "      <td>583.0</td>\n",
       "      <td>610.0</td>\n",
       "      <td>611.0</td>\n",
       "      <td>645.0</td>\n",
       "      <td>709.0</td>\n",
       "      <td>828.0</td>\n",
       "      <td>583.0</td>\n",
       "      <td>1094.0</td>\n",
       "      <td>0.65</td>\n",
       "    </tr>\n",
       "  </tbody>\n",
       "</table>\n",
       "</div>"
      ],
      "text/plain": [
       "      year quarter  parking_spaces     8am    9am   10am   11am   12pm    1pm  \\\n",
       "0  2000/01  Summer          1616.0  1207.0  950.0  675.0  526.0  505.0  534.0   \n",
       "1  2000/01    Fall          1691.0  1198.0  850.0  512.0  330.0  281.0  296.0   \n",
       "2  2000/01  Winter          1735.0  1236.0  880.0  571.0  390.0  351.0  336.0   \n",
       "3  2000/01  Spring          1731.0  1243.0  887.0  586.0  435.0  367.0  357.0   \n",
       "4  2001/02  Summer          1677.0  1281.0  993.0  760.0  599.0  583.0  610.0   \n",
       "\n",
       "     2pm    3pm    4pm    5pm  peak_empty_spaces  peak_occupied_spaces  \\\n",
       "0  545.0  564.0  643.0  794.0              505.0                1111.0   \n",
       "1  282.0  328.0  435.0  540.0              281.0                1410.0   \n",
       "2  332.0  361.0  464.0  559.0              332.0                1403.0   \n",
       "3  356.0  398.0  485.0  589.0              356.0                1375.0   \n",
       "4  611.0  645.0  709.0  828.0              583.0                1094.0   \n",
       "\n",
       "   %_occupied  \n",
       "0        0.69  \n",
       "1        0.83  \n",
       "2        0.81  \n",
       "3        0.79  \n",
       "4        0.65  "
      ]
     },
     "execution_count": 19,
     "metadata": {},
     "output_type": "execute_result"
    }
   ],
   "source": [
    "df_La_Jolla_A.head()"
   ]
  },
  {
   "cell_type": "code",
   "execution_count": 20,
   "metadata": {},
   "outputs": [],
   "source": [
    "df_La_Jolla_A_new = df_La_Jolla_A.melt(id_vars=[\"year\", \"quarter\", \"parking_spaces\", \"peak_empty_spaces\", \"peak_occupied_spaces\", \"%_occupied\"], \n",
    "        var_name=\"Time of the day\", \n",
    "        value_name=\"Empty Spots\")"
   ]
  },
  {
   "cell_type": "code",
   "execution_count": 21,
   "metadata": {},
   "outputs": [
    {
     "data": {
      "text/plain": [
       "year                    2011/12\n",
       "quarter                  Summer\n",
       "parking_spaces             2026\n",
       "peak_empty_spaces           599\n",
       "peak_occupied_spaces       1427\n",
       "%_occupied                  0.7\n",
       "Time of the day             8am\n",
       "Empty Spots                1567\n",
       "Name: 44, dtype: object"
      ]
     },
     "execution_count": 21,
     "metadata": {},
     "output_type": "execute_result"
    }
   ],
   "source": [
    "df_La_Jolla_A_new.loc[df_La_Jolla_A_new['Empty Spots'].idxmax()]"
   ]
  },
  {
   "cell_type": "code",
   "execution_count": 22,
   "metadata": {},
   "outputs": [
    {
     "data": {
      "text/plain": [
       "year                    2014/15\n",
       "quarter                  Winter\n",
       "parking_spaces             1947\n",
       "peak_empty_spaces            97\n",
       "peak_occupied_spaces       1850\n",
       "%_occupied                 0.95\n",
       "Time of the day            12pm\n",
       "Empty Spots                  97\n",
       "Name: 298, dtype: object"
      ]
     },
     "execution_count": 22,
     "metadata": {},
     "output_type": "execute_result"
    }
   ],
   "source": [
    "df_La_Jolla_A_new.loc[df_La_Jolla_A_new['Empty Spots'].idxmin()]"
   ]
  },
  {
   "cell_type": "code",
   "execution_count": 23,
   "metadata": {},
   "outputs": [
    {
     "data": {
      "text/plain": [
       "579.45"
      ]
     },
     "execution_count": 23,
     "metadata": {},
     "output_type": "execute_result"
    }
   ],
   "source": [
    "df_La_Jolla_A_2000 = df_La_Jolla_A_new[df_La_Jolla_A_new.year == '2000/01']\n",
    "#df_La_Jolla_A_2000\n",
    "df_La_Jolla_A_2000[\"Empty Spots\"].mean()"
   ]
  },
  {
   "cell_type": "code",
   "execution_count": 24,
   "metadata": {},
   "outputs": [
    {
     "data": {
      "text/plain": [
       "499.925"
      ]
     },
     "execution_count": 24,
     "metadata": {},
     "output_type": "execute_result"
    }
   ],
   "source": [
    "df_La_Jolla_A_2009 = df_La_Jolla_A_new[df_La_Jolla_A_new.year == '2009/10']\n",
    "df_La_Jolla_A_2009[\"Empty Spots\"].mean()"
   ]
  },
  {
   "cell_type": "code",
   "execution_count": 25,
   "metadata": {},
   "outputs": [
    {
     "data": {
      "text/plain": [
       "502.5"
      ]
     },
     "execution_count": 25,
     "metadata": {},
     "output_type": "execute_result"
    }
   ],
   "source": [
    "df_La_Jolla_A_2015 = df_La_Jolla_A_new[df_La_Jolla_A_new.year == '2014/15']\n",
    "df_La_Jolla_A_2015[\"Empty Spots\"].mean()"
   ]
  },
  {
   "cell_type": "code",
   "execution_count": 71,
   "metadata": {},
   "outputs": [
    {
     "data": {
      "image/png": "[encoded data removed]",
      "text/plain": [
       "<Figure size 432x288 with 1 Axes>"
      ]
     },
     "metadata": {
      "needs_background": "light"
     },
     "output_type": "display_data"
    }
   ],
   "source": [
    "df_La_Jolla_A_new = df_La_Jolla_A.melt(id_vars=[\"year\", \"quarter\", \"parking_spaces\", \"peak_empty_spaces\", \"peak_occupied_spaces\", \"%_occupied\"], \n",
    "        var_name=\"Time of the day\", \n",
    "        value_name=\"Empty Spots\")\n",
    "\n",
    "df_La_Jolla_A_new = df_La_Jolla_A_new.rename(columns={\"Time of the day\": \"Time\"})\n",
    "\n",
    "\n",
    "df_La_Jolla_A_new_8am = df_La_Jolla_A_new[df_La_Jolla_A_new.Time == '8am']\n",
    "y1 = df_La_Jolla_S_new_8am[\"Empty Spots\"].mean()\n",
    "df_La_Jolla_A_new_9am = df_La_Jolla_A_new[df_La_Jolla_A_new.Time == '9am']\n",
    "y2 = df_La_Jolla_A_new_9am[\"Empty Spots\"].mean()\n",
    "df_La_Jolla_A_new_10am = df_La_Jolla_A_new[df_La_Jolla_A_new.Time == '10am']\n",
    "y3 = df_La_Jolla_A_new_10am[\"Empty Spots\"].mean()\n",
    "df_La_Jolla_A_new_11am = df_La_Jolla_A_new[df_La_Jolla_A_new.Time == '11am']\n",
    "y4 = df_La_Jolla_A_new_11am[\"Empty Spots\"].mean()\n",
    "df_La_Jolla_A_new_12am = df_La_Jolla_A_new[df_La_Jolla_A_new.Time == '12pm']\n",
    "y5 = df_La_Jolla_A_new_12am[\"Empty Spots\"].mean()\n",
    "df_La_Jolla_A_new_1pm = df_La_Jolla_A_new[df_La_Jolla_A_new.Time == '1pm']\n",
    "y6 = df_La_Jolla_A_new_1pm[\"Empty Spots\"].mean()\n",
    "df_La_Jolla_A_new_2pm = df_La_Jolla_A_new[df_La_Jolla_A_new.Time == '2pm']\n",
    "y7 = df_La_Jolla_A_new_2pm[\"Empty Spots\"].mean()\n",
    "df_La_Jolla_A_new_3pm = df_La_Jolla_A_new[df_La_Jolla_A_new.Time == '3pm']\n",
    "y8 = df_La_Jolla_A_new_3pm[\"Empty Spots\"].mean()\n",
    "df_La_Jolla_A_new_4pm = df_La_Jolla_A_new[df_La_Jolla_A_new.Time == '4pm']\n",
    "y9 = df_La_Jolla_A_new_4pm[\"Empty Spots\"].mean()\n",
    "df_La_Jolla_A_new_5pm = df_La_Jolla_A_new[df_La_Jolla_A_new.Time == '5pm']\n",
    "y10 = df_La_Jolla_A_new_5pm[\"Empty Spots\"].mean()\n",
    "\n",
    "Times = ('8am', '9am', '10am', '11am', '12pm', '1pm', '2pm', '3pm', '4pm', '5pm')\n",
    "y_pos = np.arange(len(Times))\n",
    "performance = [y1,y2,y3,y4,y5,y6,y7,y8,y9,y10]\n",
    "\n",
    "plt.bar(y_pos, performance, align='center', alpha=0.5)\n",
    "plt.xticks(y_pos, Times)\n",
    "plt.ylabel('Empty Spots')\n",
    "plt.title('Empty Spots of the Day on Average (A permit)')\n",
    "\n",
    "plt.show()"
   ]
  },
  {
   "cell_type": "markdown",
   "metadata": {},
   "source": [
    "## A Parking Spaces (By Location) (Medical Center Hillcrest)"
   ]
  },
  {
   "cell_type": "code",
   "execution_count": 27,
   "metadata": {},
   "outputs": [],
   "source": [
    "df_Medical_Center_Hillcrest_A = pd.read_csv(\"/home/ktantipa/ECE143_FinalProject/csv_data/By-Location/Medical_Center_Hillcrest__A_Parking_Spaces.csv\")"
   ]
  },
  {
   "cell_type": "code",
   "execution_count": 28,
   "metadata": {
    "scrolled": true
   },
   "outputs": [
    {
     "data": {
      "text/html": [
       "<div>\n",
       "<style scoped>\n",
       "    .dataframe tbody tr th:only-of-type {\n",
       "        vertical-align: middle;\n",
       "    }\n",
       "\n",
       "    .dataframe tbody tr th {\n",
       "        vertical-align: top;\n",
       "    }\n",
       "\n",
       "    .dataframe thead th {\n",
       "        text-align: right;\n",
       "    }\n",
       "</style>\n",
       "<table border=\"1\" class=\"dataframe\">\n",
       "  <thead>\n",
       "    <tr style=\"text-align: right;\">\n",
       "      <th></th>\n",
       "      <th>year</th>\n",
       "      <th>quarter</th>\n",
       "      <th>parking_spaces</th>\n",
       "      <th>8am</th>\n",
       "      <th>9am</th>\n",
       "      <th>10am</th>\n",
       "      <th>11am</th>\n",
       "      <th>12pm</th>\n",
       "      <th>1pm</th>\n",
       "      <th>2pm</th>\n",
       "      <th>3pm</th>\n",
       "      <th>4pm</th>\n",
       "      <th>5pm</th>\n",
       "      <th>peak_empty_spaces</th>\n",
       "      <th>peak_occupied_spaces</th>\n",
       "      <th>%_occupied</th>\n",
       "    </tr>\n",
       "  </thead>\n",
       "  <tbody>\n",
       "    <tr>\n",
       "      <th>0</th>\n",
       "      <td>2000/01</td>\n",
       "      <td>Summer</td>\n",
       "      <td>240.0</td>\n",
       "      <td>118.0</td>\n",
       "      <td>93.0</td>\n",
       "      <td>70.0</td>\n",
       "      <td>56.0</td>\n",
       "      <td>59.0</td>\n",
       "      <td>71.0</td>\n",
       "      <td>64.0</td>\n",
       "      <td>62.0</td>\n",
       "      <td>62.0</td>\n",
       "      <td>82.0</td>\n",
       "      <td>56.0</td>\n",
       "      <td>184.0</td>\n",
       "      <td>0.77</td>\n",
       "    </tr>\n",
       "    <tr>\n",
       "      <th>1</th>\n",
       "      <td>2000/01</td>\n",
       "      <td>Fall</td>\n",
       "      <td>239.0</td>\n",
       "      <td>117.0</td>\n",
       "      <td>94.0</td>\n",
       "      <td>72.0</td>\n",
       "      <td>55.0</td>\n",
       "      <td>52.0</td>\n",
       "      <td>55.0</td>\n",
       "      <td>50.0</td>\n",
       "      <td>53.0</td>\n",
       "      <td>55.0</td>\n",
       "      <td>72.0</td>\n",
       "      <td>50.0</td>\n",
       "      <td>189.0</td>\n",
       "      <td>0.79</td>\n",
       "    </tr>\n",
       "    <tr>\n",
       "      <th>2</th>\n",
       "      <td>2000/01</td>\n",
       "      <td>Winter</td>\n",
       "      <td>232.0</td>\n",
       "      <td>102.0</td>\n",
       "      <td>78.0</td>\n",
       "      <td>47.0</td>\n",
       "      <td>38.0</td>\n",
       "      <td>31.0</td>\n",
       "      <td>37.0</td>\n",
       "      <td>38.0</td>\n",
       "      <td>38.0</td>\n",
       "      <td>53.0</td>\n",
       "      <td>81.0</td>\n",
       "      <td>31.0</td>\n",
       "      <td>201.0</td>\n",
       "      <td>0.87</td>\n",
       "    </tr>\n",
       "    <tr>\n",
       "      <th>3</th>\n",
       "      <td>2000/01</td>\n",
       "      <td>Spring</td>\n",
       "      <td>232.0</td>\n",
       "      <td>113.0</td>\n",
       "      <td>84.0</td>\n",
       "      <td>59.0</td>\n",
       "      <td>42.0</td>\n",
       "      <td>41.0</td>\n",
       "      <td>46.0</td>\n",
       "      <td>41.0</td>\n",
       "      <td>43.0</td>\n",
       "      <td>47.0</td>\n",
       "      <td>69.0</td>\n",
       "      <td>41.0</td>\n",
       "      <td>191.0</td>\n",
       "      <td>0.82</td>\n",
       "    </tr>\n",
       "    <tr>\n",
       "      <th>4</th>\n",
       "      <td>2001/02</td>\n",
       "      <td>Summer</td>\n",
       "      <td>237.0</td>\n",
       "      <td>110.0</td>\n",
       "      <td>83.0</td>\n",
       "      <td>57.0</td>\n",
       "      <td>47.0</td>\n",
       "      <td>36.0</td>\n",
       "      <td>48.0</td>\n",
       "      <td>41.0</td>\n",
       "      <td>34.0</td>\n",
       "      <td>52.0</td>\n",
       "      <td>71.0</td>\n",
       "      <td>34.0</td>\n",
       "      <td>203.0</td>\n",
       "      <td>0.86</td>\n",
       "    </tr>\n",
       "  </tbody>\n",
       "</table>\n",
       "</div>"
      ],
      "text/plain": [
       "      year quarter  parking_spaces    8am   9am  10am  11am  12pm   1pm   2pm  \\\n",
       "0  2000/01  Summer           240.0  118.0  93.0  70.0  56.0  59.0  71.0  64.0   \n",
       "1  2000/01    Fall           239.0  117.0  94.0  72.0  55.0  52.0  55.0  50.0   \n",
       "2  2000/01  Winter           232.0  102.0  78.0  47.0  38.0  31.0  37.0  38.0   \n",
       "3  2000/01  Spring           232.0  113.0  84.0  59.0  42.0  41.0  46.0  41.0   \n",
       "4  2001/02  Summer           237.0  110.0  83.0  57.0  47.0  36.0  48.0  41.0   \n",
       "\n",
       "    3pm   4pm   5pm  peak_empty_spaces  peak_occupied_spaces  %_occupied  \n",
       "0  62.0  62.0  82.0               56.0                 184.0        0.77  \n",
       "1  53.0  55.0  72.0               50.0                 189.0        0.79  \n",
       "2  38.0  53.0  81.0               31.0                 201.0        0.87  \n",
       "3  43.0  47.0  69.0               41.0                 191.0        0.82  \n",
       "4  34.0  52.0  71.0               34.0                 203.0        0.86  "
      ]
     },
     "execution_count": 28,
     "metadata": {},
     "output_type": "execute_result"
    }
   ],
   "source": [
    "df_Medical_Center_Hillcrest_A.head()"
   ]
  },
  {
   "cell_type": "code",
   "execution_count": 29,
   "metadata": {},
   "outputs": [],
   "source": [
    "df_Medical_Center_Hillcrest_A_new = df_Medical_Center_Hillcrest_A.melt(id_vars=[\"year\", \"quarter\", \"parking_spaces\", \"peak_empty_spaces\", \"peak_occupied_spaces\", \"%_occupied\"], \n",
    "        var_name=\"Time of the day\", \n",
    "        value_name=\"Empty Spots\")"
   ]
  },
  {
   "cell_type": "code",
   "execution_count": 30,
   "metadata": {},
   "outputs": [
    {
     "data": {
      "text/plain": [
       "year                    2013/14\n",
       "quarter                  Spring\n",
       "parking_spaces              266\n",
       "peak_empty_spaces            67\n",
       "peak_occupied_spaces        199\n",
       "%_occupied                 0.75\n",
       "Time of the day             8am\n",
       "Empty Spots                 171\n",
       "Name: 55, dtype: object"
      ]
     },
     "execution_count": 30,
     "metadata": {},
     "output_type": "execute_result"
    }
   ],
   "source": [
    "df_Medical_Center_Hillcrest_A_new.loc[df_Medical_Center_Hillcrest_A_new['Empty Spots'].idxmax()]"
   ]
  },
  {
   "cell_type": "code",
   "execution_count": 31,
   "metadata": {},
   "outputs": [
    {
     "data": {
      "text/plain": [
       "year                    2003/04\n",
       "quarter                    Fall\n",
       "parking_spaces              243\n",
       "peak_empty_spaces             7\n",
       "peak_occupied_spaces        236\n",
       "%_occupied                 0.97\n",
       "Time of the day            11am\n",
       "Empty Spots                   7\n",
       "Name: 193, dtype: object"
      ]
     },
     "execution_count": 31,
     "metadata": {},
     "output_type": "execute_result"
    }
   ],
   "source": [
    "df_Medical_Center_Hillcrest_A_new.loc[df_Medical_Center_Hillcrest_A_new['Empty Spots'].idxmin()]"
   ]
  },
  {
   "cell_type": "markdown",
   "metadata": {},
   "source": [
    "## B Parking Spaces (By Location) (La Jolla campus)"
   ]
  },
  {
   "cell_type": "code",
   "execution_count": 35,
   "metadata": {},
   "outputs": [
    {
     "data": {
      "text/html": [
       "<div>\n",
       "<style scoped>\n",
       "    .dataframe tbody tr th:only-of-type {\n",
       "        vertical-align: middle;\n",
       "    }\n",
       "\n",
       "    .dataframe tbody tr th {\n",
       "        vertical-align: top;\n",
       "    }\n",
       "\n",
       "    .dataframe thead th {\n",
       "        text-align: right;\n",
       "    }\n",
       "</style>\n",
       "<table border=\"1\" class=\"dataframe\">\n",
       "  <thead>\n",
       "    <tr style=\"text-align: right;\">\n",
       "      <th></th>\n",
       "      <th>year</th>\n",
       "      <th>quarter</th>\n",
       "      <th>parking_spaces</th>\n",
       "      <th>8am</th>\n",
       "      <th>9am</th>\n",
       "      <th>10am</th>\n",
       "      <th>11am</th>\n",
       "      <th>12pm</th>\n",
       "      <th>1pm</th>\n",
       "      <th>2pm</th>\n",
       "      <th>3pm</th>\n",
       "      <th>4pm</th>\n",
       "      <th>5pm</th>\n",
       "      <th>peak_empty_spaces</th>\n",
       "      <th>peak_occupied_spaces</th>\n",
       "      <th>%_occupied</th>\n",
       "    </tr>\n",
       "  </thead>\n",
       "  <tbody>\n",
       "    <tr>\n",
       "      <th>0</th>\n",
       "      <td>2000/01</td>\n",
       "      <td>Summer</td>\n",
       "      <td>3442.0</td>\n",
       "      <td>1749.0</td>\n",
       "      <td>1134.0</td>\n",
       "      <td>797.0</td>\n",
       "      <td>616.0</td>\n",
       "      <td>683.0</td>\n",
       "      <td>720.0</td>\n",
       "      <td>720.0</td>\n",
       "      <td>803.0</td>\n",
       "      <td>1086.0</td>\n",
       "      <td>1659.0</td>\n",
       "      <td>616.0</td>\n",
       "      <td>2826.0</td>\n",
       "      <td>0.82</td>\n",
       "    </tr>\n",
       "    <tr>\n",
       "      <th>1</th>\n",
       "      <td>2000/01</td>\n",
       "      <td>Fall</td>\n",
       "      <td>3517.0</td>\n",
       "      <td>1622.0</td>\n",
       "      <td>898.0</td>\n",
       "      <td>458.0</td>\n",
       "      <td>323.0</td>\n",
       "      <td>342.0</td>\n",
       "      <td>386.0</td>\n",
       "      <td>366.0</td>\n",
       "      <td>454.0</td>\n",
       "      <td>712.0</td>\n",
       "      <td>1331.0</td>\n",
       "      <td>323.0</td>\n",
       "      <td>3194.0</td>\n",
       "      <td>0.91</td>\n",
       "    </tr>\n",
       "    <tr>\n",
       "      <th>2</th>\n",
       "      <td>2000/01</td>\n",
       "      <td>Winter</td>\n",
       "      <td>3905.0</td>\n",
       "      <td>1921.0</td>\n",
       "      <td>1137.0</td>\n",
       "      <td>698.0</td>\n",
       "      <td>532.0</td>\n",
       "      <td>563.0</td>\n",
       "      <td>573.0</td>\n",
       "      <td>563.0</td>\n",
       "      <td>673.0</td>\n",
       "      <td>996.0</td>\n",
       "      <td>1621.0</td>\n",
       "      <td>532.0</td>\n",
       "      <td>3373.0</td>\n",
       "      <td>0.86</td>\n",
       "    </tr>\n",
       "    <tr>\n",
       "      <th>3</th>\n",
       "      <td>2000/01</td>\n",
       "      <td>Spring</td>\n",
       "      <td>3905.0</td>\n",
       "      <td>2034.0</td>\n",
       "      <td>1220.0</td>\n",
       "      <td>781.0</td>\n",
       "      <td>577.0</td>\n",
       "      <td>607.0</td>\n",
       "      <td>644.0</td>\n",
       "      <td>606.0</td>\n",
       "      <td>709.0</td>\n",
       "      <td>998.0</td>\n",
       "      <td>1527.0</td>\n",
       "      <td>577.0</td>\n",
       "      <td>3328.0</td>\n",
       "      <td>0.85</td>\n",
       "    </tr>\n",
       "    <tr>\n",
       "      <th>4</th>\n",
       "      <td>2001/02</td>\n",
       "      <td>Summer</td>\n",
       "      <td>3872.0</td>\n",
       "      <td>2276.0</td>\n",
       "      <td>1615.0</td>\n",
       "      <td>1209.0</td>\n",
       "      <td>988.0</td>\n",
       "      <td>1011.0</td>\n",
       "      <td>1061.0</td>\n",
       "      <td>1056.0</td>\n",
       "      <td>1159.0</td>\n",
       "      <td>1440.0</td>\n",
       "      <td>2031.0</td>\n",
       "      <td>988.0</td>\n",
       "      <td>2884.0</td>\n",
       "      <td>0.74</td>\n",
       "    </tr>\n",
       "  </tbody>\n",
       "</table>\n",
       "</div>"
      ],
      "text/plain": [
       "      year quarter  parking_spaces     8am     9am    10am   11am    12pm  \\\n",
       "0  2000/01  Summer          3442.0  1749.0  1134.0   797.0  616.0   683.0   \n",
       "1  2000/01    Fall          3517.0  1622.0   898.0   458.0  323.0   342.0   \n",
       "2  2000/01  Winter          3905.0  1921.0  1137.0   698.0  532.0   563.0   \n",
       "3  2000/01  Spring          3905.0  2034.0  1220.0   781.0  577.0   607.0   \n",
       "4  2001/02  Summer          3872.0  2276.0  1615.0  1209.0  988.0  1011.0   \n",
       "\n",
       "      1pm     2pm     3pm     4pm     5pm  peak_empty_spaces  \\\n",
       "0   720.0   720.0   803.0  1086.0  1659.0              616.0   \n",
       "1   386.0   366.0   454.0   712.0  1331.0              323.0   \n",
       "2   573.0   563.0   673.0   996.0  1621.0              532.0   \n",
       "3   644.0   606.0   709.0   998.0  1527.0              577.0   \n",
       "4  1061.0  1056.0  1159.0  1440.0  2031.0              988.0   \n",
       "\n",
       "   peak_occupied_spaces  %_occupied  \n",
       "0                2826.0        0.82  \n",
       "1                3194.0        0.91  \n",
       "2                3373.0        0.86  \n",
       "3                3328.0        0.85  \n",
       "4                2884.0        0.74  "
      ]
     },
     "execution_count": 35,
     "metadata": {},
     "output_type": "execute_result"
    }
   ],
   "source": [
    "df_La_Jolla_B = pd.read_csv(\"/home/ktantipa/ECE143_FinalProject/csv_data/By-Location/La_Jolla_Campus__B_Parking_Spaces.csv\")\n",
    "df_La_Jolla_B.head() "
   ]
  },
  {
   "cell_type": "code",
   "execution_count": 37,
   "metadata": {},
   "outputs": [],
   "source": [
    "df_La_Jolla_B_new = df_La_Jolla_B.melt(id_vars=[\"year\", \"quarter\", \"parking_spaces\", \"peak_empty_spaces\", \"peak_occupied_spaces\", \"%_occupied\"], \n",
    "        var_name=\"Time of the day\", \n",
    "        value_name=\"Empty Spots\")"
   ]
  },
  {
   "cell_type": "code",
   "execution_count": 40,
   "metadata": {},
   "outputs": [
    {
     "data": {
      "text/plain": [
       "year                    2008/09\n",
       "quarter                  Summer\n",
       "parking_spaces             5014\n",
       "peak_empty_spaces          1319\n",
       "peak_occupied_spaces       3695\n",
       "%_occupied                 0.74\n",
       "Time of the day             8am\n",
       "Empty Spots                3301\n",
       "Name: 32, dtype: object"
      ]
     },
     "execution_count": 40,
     "metadata": {},
     "output_type": "execute_result"
    }
   ],
   "source": [
    "df_La_Jolla_B_new.loc[df_La_Jolla_B_new['Empty Spots'].idxmax()]"
   ]
  },
  {
   "cell_type": "code",
   "execution_count": 41,
   "metadata": {},
   "outputs": [
    {
     "data": {
      "text/plain": [
       "year                    2014/15\n",
       "quarter                  Winter\n",
       "parking_spaces             4932\n",
       "peak_empty_spaces           151\n",
       "peak_occupied_spaces       4781\n",
       "%_occupied                 0.97\n",
       "Time of the day            12pm\n",
       "Empty Spots                 151\n",
       "Name: 298, dtype: object"
      ]
     },
     "execution_count": 41,
     "metadata": {},
     "output_type": "execute_result"
    }
   ],
   "source": [
    "df_La_Jolla_B_new.loc[df_La_Jolla_B_new['Empty Spots'].idxmin()]"
   ]
  },
  {
   "cell_type": "code",
   "execution_count": 42,
   "metadata": {},
   "outputs": [
    {
     "data": {
      "text/plain": [
       "895.975"
      ]
     },
     "execution_count": 42,
     "metadata": {},
     "output_type": "execute_result"
    }
   ],
   "source": [
    "df_La_Jolla_B_2000 = df_La_Jolla_B_new[df_La_Jolla_B_new.year == '2000/01']\n",
    "df_La_Jolla_B_2000[\"Empty Spots\"].mean()"
   ]
  },
  {
   "cell_type": "code",
   "execution_count": 43,
   "metadata": {},
   "outputs": [
    {
     "data": {
      "text/plain": [
       "1243.4"
      ]
     },
     "execution_count": 43,
     "metadata": {},
     "output_type": "execute_result"
    }
   ],
   "source": [
    "df_La_Jolla_B_2009 = df_La_Jolla_B_new[df_La_Jolla_B_new.year == '2009/10']\n",
    "df_La_Jolla_B_2009[\"Empty Spots\"].mean()"
   ]
  },
  {
   "cell_type": "code",
   "execution_count": 44,
   "metadata": {},
   "outputs": [
    {
     "data": {
      "text/plain": [
       "1002.9"
      ]
     },
     "execution_count": 44,
     "metadata": {},
     "output_type": "execute_result"
    }
   ],
   "source": [
    "df_La_Jolla_B_2014 = df_La_Jolla_B_new[df_La_Jolla_B_new.year == '2014/15']\n",
    "df_La_Jolla_B_2014[\"Empty Spots\"].mean()"
   ]
  },
  {
   "cell_type": "code",
   "execution_count": 72,
   "metadata": {},
   "outputs": [
    {
     "data": {
      "image/png": "[encoded data removed]",
      "text/plain": [
       "<Figure size 432x288 with 1 Axes>"
      ]
     },
     "metadata": {
      "needs_background": "light"
     },
     "output_type": "display_data"
    }
   ],
   "source": [
    "df_La_Jolla_B_new = df_La_Jolla_B_new.rename(columns={\"Time of the day\": \"Time\"})\n",
    "\n",
    "df_La_Jolla_B_new_8am = df_La_Jolla_B_new[df_La_Jolla_B_new.Time == '8am']\n",
    "z1 = df_La_Jolla_B_new_8am[\"Empty Spots\"].mean()\n",
    "df_La_Jolla_B_new_9am = df_La_Jolla_B_new[df_La_Jolla_B_new.Time == '9am']\n",
    "z2 = df_La_Jolla_B_new_9am[\"Empty Spots\"].mean()\n",
    "df_La_Jolla_B_new_10am = df_La_Jolla_B_new[df_La_Jolla_B_new.Time == '10am']\n",
    "z3 = df_La_Jolla_B_new_10am[\"Empty Spots\"].mean()\n",
    "df_La_Jolla_B_new_11am = df_La_Jolla_B_new[df_La_Jolla_B_new.Time == '11am']\n",
    "z4 = df_La_Jolla_B_new_11am[\"Empty Spots\"].mean()\n",
    "df_La_Jolla_B_new_12am = df_La_Jolla_B_new[df_La_Jolla_B_new.Time == '12pm']\n",
    "z5 = df_La_Jolla_B_new_12am[\"Empty Spots\"].mean()\n",
    "df_La_Jolla_B_new_1pm = df_La_Jolla_B_new[df_La_Jolla_B_new.Time == '1pm']\n",
    "z6 = df_La_Jolla_B_new_1pm[\"Empty Spots\"].mean()\n",
    "df_La_Jolla_B_new_2pm = df_La_Jolla_B_new[df_La_Jolla_B_new.Time == '2pm']\n",
    "z7 = df_La_Jolla_B_new_2pm[\"Empty Spots\"].mean()\n",
    "df_La_Jolla_B_new_3pm = df_La_Jolla_B_new[df_La_Jolla_B_new.Time == '3pm']\n",
    "z8 = df_La_Jolla_B_new_3pm[\"Empty Spots\"].mean()\n",
    "df_La_Jolla_B_new_4pm = df_La_Jolla_B_new[df_La_Jolla_B_new.Time == '4pm']\n",
    "z9 = df_La_Jolla_B_new_4pm[\"Empty Spots\"].mean()\n",
    "df_La_Jolla_B_new_5pm = df_La_Jolla_B_new[df_La_Jolla_B_new.Time == '5pm']\n",
    "z10 = df_La_Jolla_B_new_5pm[\"Empty Spots\"].mean()\n",
    "\n",
    "Times = ('8am', '9am', '10am', '11am', '12pm', '1pm', '2pm', '3pm', '4pm', '5pm')\n",
    "y_pos = np.arange(len(Times))\n",
    "performance = [z1,z2,z3,z4,z5,z6,z7,z8,z9,z10]\n",
    "\n",
    "plt.bar(y_pos, performance, align='center', alpha=0.5)\n",
    "plt.xticks(y_pos, Times)\n",
    "plt.ylabel('Empty Spots')\n",
    "plt.title('Empty Spots of the Day on Average (B permit)')\n",
    "\n",
    "plt.show()"
   ]
  },
  {
   "cell_type": "markdown",
   "metadata": {},
   "source": [
    "## B Parking Spaces (By Location) (Medical Center Hillcrest)"
   ]
  },
  {
   "cell_type": "code",
   "execution_count": 48,
   "metadata": {},
   "outputs": [
    {
     "data": {
      "text/html": [
       "<div>\n",
       "<style scoped>\n",
       "    .dataframe tbody tr th:only-of-type {\n",
       "        vertical-align: middle;\n",
       "    }\n",
       "\n",
       "    .dataframe tbody tr th {\n",
       "        vertical-align: top;\n",
       "    }\n",
       "\n",
       "    .dataframe thead th {\n",
       "        text-align: right;\n",
       "    }\n",
       "</style>\n",
       "<table border=\"1\" class=\"dataframe\">\n",
       "  <thead>\n",
       "    <tr style=\"text-align: right;\">\n",
       "      <th></th>\n",
       "      <th>year</th>\n",
       "      <th>quarter</th>\n",
       "      <th>parking_spaces</th>\n",
       "      <th>8am</th>\n",
       "      <th>9am</th>\n",
       "      <th>10am</th>\n",
       "      <th>11am</th>\n",
       "      <th>12pm</th>\n",
       "      <th>1pm</th>\n",
       "      <th>2pm</th>\n",
       "      <th>3pm</th>\n",
       "      <th>4pm</th>\n",
       "      <th>5pm</th>\n",
       "      <th>peak_empty_spaces</th>\n",
       "      <th>peak_occupied_spaces</th>\n",
       "      <th>%_occupied</th>\n",
       "    </tr>\n",
       "  </thead>\n",
       "  <tbody>\n",
       "    <tr>\n",
       "      <th>0</th>\n",
       "      <td>2000/01</td>\n",
       "      <td>Summer</td>\n",
       "      <td>1137.0</td>\n",
       "      <td>278.0</td>\n",
       "      <td>164.0</td>\n",
       "      <td>97.0</td>\n",
       "      <td>68.0</td>\n",
       "      <td>89.0</td>\n",
       "      <td>104.0</td>\n",
       "      <td>111.0</td>\n",
       "      <td>114.0</td>\n",
       "      <td>214.0</td>\n",
       "      <td>394.0</td>\n",
       "      <td>68.0</td>\n",
       "      <td>1069.0</td>\n",
       "      <td>0.94</td>\n",
       "    </tr>\n",
       "    <tr>\n",
       "      <th>1</th>\n",
       "      <td>2000/01</td>\n",
       "      <td>Fall</td>\n",
       "      <td>1137.0</td>\n",
       "      <td>303.0</td>\n",
       "      <td>165.0</td>\n",
       "      <td>76.0</td>\n",
       "      <td>63.0</td>\n",
       "      <td>75.0</td>\n",
       "      <td>88.0</td>\n",
       "      <td>123.0</td>\n",
       "      <td>139.0</td>\n",
       "      <td>271.0</td>\n",
       "      <td>419.0</td>\n",
       "      <td>63.0</td>\n",
       "      <td>1074.0</td>\n",
       "      <td>0.94</td>\n",
       "    </tr>\n",
       "    <tr>\n",
       "      <th>2</th>\n",
       "      <td>2000/01</td>\n",
       "      <td>Winter</td>\n",
       "      <td>1167.0</td>\n",
       "      <td>294.0</td>\n",
       "      <td>146.0</td>\n",
       "      <td>82.0</td>\n",
       "      <td>57.0</td>\n",
       "      <td>62.0</td>\n",
       "      <td>78.0</td>\n",
       "      <td>94.0</td>\n",
       "      <td>138.0</td>\n",
       "      <td>277.0</td>\n",
       "      <td>444.0</td>\n",
       "      <td>57.0</td>\n",
       "      <td>1110.0</td>\n",
       "      <td>0.95</td>\n",
       "    </tr>\n",
       "    <tr>\n",
       "      <th>3</th>\n",
       "      <td>2000/01</td>\n",
       "      <td>Spring</td>\n",
       "      <td>1167.0</td>\n",
       "      <td>336.0</td>\n",
       "      <td>221.0</td>\n",
       "      <td>120.0</td>\n",
       "      <td>91.0</td>\n",
       "      <td>103.0</td>\n",
       "      <td>128.0</td>\n",
       "      <td>148.0</td>\n",
       "      <td>186.0</td>\n",
       "      <td>301.0</td>\n",
       "      <td>467.0</td>\n",
       "      <td>91.0</td>\n",
       "      <td>1076.0</td>\n",
       "      <td>0.92</td>\n",
       "    </tr>\n",
       "    <tr>\n",
       "      <th>4</th>\n",
       "      <td>2001/02</td>\n",
       "      <td>Summer</td>\n",
       "      <td>1167.0</td>\n",
       "      <td>318.0</td>\n",
       "      <td>191.0</td>\n",
       "      <td>119.0</td>\n",
       "      <td>91.0</td>\n",
       "      <td>99.0</td>\n",
       "      <td>125.0</td>\n",
       "      <td>139.0</td>\n",
       "      <td>164.0</td>\n",
       "      <td>291.0</td>\n",
       "      <td>461.0</td>\n",
       "      <td>91.0</td>\n",
       "      <td>1076.0</td>\n",
       "      <td>0.92</td>\n",
       "    </tr>\n",
       "  </tbody>\n",
       "</table>\n",
       "</div>"
      ],
      "text/plain": [
       "      year quarter  parking_spaces    8am    9am   10am  11am   12pm    1pm  \\\n",
       "0  2000/01  Summer          1137.0  278.0  164.0   97.0  68.0   89.0  104.0   \n",
       "1  2000/01    Fall          1137.0  303.0  165.0   76.0  63.0   75.0   88.0   \n",
       "2  2000/01  Winter          1167.0  294.0  146.0   82.0  57.0   62.0   78.0   \n",
       "3  2000/01  Spring          1167.0  336.0  221.0  120.0  91.0  103.0  128.0   \n",
       "4  2001/02  Summer          1167.0  318.0  191.0  119.0  91.0   99.0  125.0   \n",
       "\n",
       "     2pm    3pm    4pm    5pm  peak_empty_spaces  peak_occupied_spaces  \\\n",
       "0  111.0  114.0  214.0  394.0               68.0                1069.0   \n",
       "1  123.0  139.0  271.0  419.0               63.0                1074.0   \n",
       "2   94.0  138.0  277.0  444.0               57.0                1110.0   \n",
       "3  148.0  186.0  301.0  467.0               91.0                1076.0   \n",
       "4  139.0  164.0  291.0  461.0               91.0                1076.0   \n",
       "\n",
       "   %_occupied  \n",
       "0        0.94  \n",
       "1        0.94  \n",
       "2        0.95  \n",
       "3        0.92  \n",
       "4        0.92  "
      ]
     },
     "execution_count": 48,
     "metadata": {},
     "output_type": "execute_result"
    }
   ],
   "source": [
    "df_Medical_Center_Hillcrest_B = pd.read_csv(\"/home/ktantipa/ECE143_FinalProject/csv_data/By-Location/Medical_Center_Hillcrest__B_Parking_Spaces.csv\")\n",
    "df_Medical_Center_Hillcrest_B.head()"
   ]
  },
  {
   "cell_type": "code",
   "execution_count": 49,
   "metadata": {},
   "outputs": [],
   "source": [
    "df_Medical_Center_Hillcrest_B_new = df_Medical_Center_Hillcrest_B.melt(id_vars=[\"year\", \"quarter\", \"parking_spaces\", \"peak_empty_spaces\", \"peak_occupied_spaces\", \"%_occupied\"], \n",
    "        var_name=\"Time of the day\", \n",
    "        value_name=\"Empty Spots\")"
   ]
  },
  {
   "cell_type": "code",
   "execution_count": 50,
   "metadata": {},
   "outputs": [
    {
     "data": {
      "text/plain": [
       "year                    2012/13\n",
       "quarter                  Summer\n",
       "parking_spaces             1198\n",
       "peak_empty_spaces           120\n",
       "peak_occupied_spaces       1078\n",
       "%_occupied                  0.9\n",
       "Time of the day             5pm\n",
       "Empty Spots                 621\n",
       "Name: 588, dtype: object"
      ]
     },
     "execution_count": 50,
     "metadata": {},
     "output_type": "execute_result"
    }
   ],
   "source": [
    "df_Medical_Center_Hillcrest_B_new.loc[df_Medical_Center_Hillcrest_B_new['Empty Spots'].idxmax()]"
   ]
  },
  {
   "cell_type": "code",
   "execution_count": 51,
   "metadata": {},
   "outputs": [
    {
     "data": {
      "text/plain": [
       "year                    2004/05\n",
       "quarter                    Fall\n",
       "parking_spaces             1136\n",
       "peak_empty_spaces             0\n",
       "peak_occupied_spaces       1136\n",
       "%_occupied                    1\n",
       "Time of the day            11am\n",
       "Empty Spots                   0\n",
       "Name: 197, dtype: object"
      ]
     },
     "execution_count": 51,
     "metadata": {},
     "output_type": "execute_result"
    }
   ],
   "source": [
    "df_Medical_Center_Hillcrest_B_new.loc[df_Medical_Center_Hillcrest_B_new['Empty Spots'].idxmin()]"
   ]
  },
  {
   "cell_type": "markdown",
   "metadata": {},
   "source": [
    "## V Parking Spaces (By Location) (La Jolla Campus)"
   ]
  },
  {
   "cell_type": "code",
   "execution_count": 52,
   "metadata": {},
   "outputs": [
    {
     "data": {
      "text/html": [
       "<div>\n",
       "<style scoped>\n",
       "    .dataframe tbody tr th:only-of-type {\n",
       "        vertical-align: middle;\n",
       "    }\n",
       "\n",
       "    .dataframe tbody tr th {\n",
       "        vertical-align: top;\n",
       "    }\n",
       "\n",
       "    .dataframe thead th {\n",
       "        text-align: right;\n",
       "    }\n",
       "</style>\n",
       "<table border=\"1\" class=\"dataframe\">\n",
       "  <thead>\n",
       "    <tr style=\"text-align: right;\">\n",
       "      <th></th>\n",
       "      <th>year</th>\n",
       "      <th>quarter</th>\n",
       "      <th>parking_spaces</th>\n",
       "      <th>8am</th>\n",
       "      <th>9am</th>\n",
       "      <th>10am</th>\n",
       "      <th>11am</th>\n",
       "      <th>12pm</th>\n",
       "      <th>1pm</th>\n",
       "      <th>2pm</th>\n",
       "      <th>3pm</th>\n",
       "      <th>4pm</th>\n",
       "      <th>5pm</th>\n",
       "      <th>peak_empty_spaces</th>\n",
       "      <th>peak_occupied_spaces</th>\n",
       "      <th>%_occupied</th>\n",
       "    </tr>\n",
       "  </thead>\n",
       "  <tbody>\n",
       "    <tr>\n",
       "      <th>0</th>\n",
       "      <td>2000/01</td>\n",
       "      <td>Summer</td>\n",
       "      <td>572.0</td>\n",
       "      <td>370.0</td>\n",
       "      <td>275.0</td>\n",
       "      <td>194.0</td>\n",
       "      <td>162.0</td>\n",
       "      <td>158.0</td>\n",
       "      <td>176.0</td>\n",
       "      <td>202.0</td>\n",
       "      <td>207.0</td>\n",
       "      <td>235.0</td>\n",
       "      <td>243.0</td>\n",
       "      <td>158.0</td>\n",
       "      <td>414.0</td>\n",
       "      <td>0.72</td>\n",
       "    </tr>\n",
       "    <tr>\n",
       "      <th>1</th>\n",
       "      <td>2000/01</td>\n",
       "      <td>Fall</td>\n",
       "      <td>713.0</td>\n",
       "      <td>478.0</td>\n",
       "      <td>376.0</td>\n",
       "      <td>268.0</td>\n",
       "      <td>226.0</td>\n",
       "      <td>194.0</td>\n",
       "      <td>194.0</td>\n",
       "      <td>189.0</td>\n",
       "      <td>212.0</td>\n",
       "      <td>209.0</td>\n",
       "      <td>203.0</td>\n",
       "      <td>189.0</td>\n",
       "      <td>524.0</td>\n",
       "      <td>0.73</td>\n",
       "    </tr>\n",
       "    <tr>\n",
       "      <th>2</th>\n",
       "      <td>2000/01</td>\n",
       "      <td>Winter</td>\n",
       "      <td>717.0</td>\n",
       "      <td>463.0</td>\n",
       "      <td>334.0</td>\n",
       "      <td>236.0</td>\n",
       "      <td>185.0</td>\n",
       "      <td>184.0</td>\n",
       "      <td>198.0</td>\n",
       "      <td>200.0</td>\n",
       "      <td>200.0</td>\n",
       "      <td>234.0</td>\n",
       "      <td>216.0</td>\n",
       "      <td>184.0</td>\n",
       "      <td>533.0</td>\n",
       "      <td>0.74</td>\n",
       "    </tr>\n",
       "    <tr>\n",
       "      <th>3</th>\n",
       "      <td>2000/01</td>\n",
       "      <td>Spring</td>\n",
       "      <td>702.0</td>\n",
       "      <td>431.0</td>\n",
       "      <td>293.0</td>\n",
       "      <td>199.0</td>\n",
       "      <td>166.0</td>\n",
       "      <td>148.0</td>\n",
       "      <td>144.0</td>\n",
       "      <td>144.0</td>\n",
       "      <td>173.0</td>\n",
       "      <td>196.0</td>\n",
       "      <td>186.0</td>\n",
       "      <td>144.0</td>\n",
       "      <td>558.0</td>\n",
       "      <td>0.79</td>\n",
       "    </tr>\n",
       "    <tr>\n",
       "      <th>4</th>\n",
       "      <td>2001/02</td>\n",
       "      <td>Summer</td>\n",
       "      <td>697.0</td>\n",
       "      <td>512.0</td>\n",
       "      <td>423.0</td>\n",
       "      <td>330.0</td>\n",
       "      <td>273.0</td>\n",
       "      <td>278.0</td>\n",
       "      <td>286.0</td>\n",
       "      <td>288.0</td>\n",
       "      <td>314.0</td>\n",
       "      <td>349.0</td>\n",
       "      <td>347.0</td>\n",
       "      <td>273.0</td>\n",
       "      <td>424.0</td>\n",
       "      <td>0.61</td>\n",
       "    </tr>\n",
       "  </tbody>\n",
       "</table>\n",
       "</div>"
      ],
      "text/plain": [
       "      year quarter  parking_spaces    8am    9am   10am   11am   12pm    1pm  \\\n",
       "0  2000/01  Summer           572.0  370.0  275.0  194.0  162.0  158.0  176.0   \n",
       "1  2000/01    Fall           713.0  478.0  376.0  268.0  226.0  194.0  194.0   \n",
       "2  2000/01  Winter           717.0  463.0  334.0  236.0  185.0  184.0  198.0   \n",
       "3  2000/01  Spring           702.0  431.0  293.0  199.0  166.0  148.0  144.0   \n",
       "4  2001/02  Summer           697.0  512.0  423.0  330.0  273.0  278.0  286.0   \n",
       "\n",
       "     2pm    3pm    4pm    5pm  peak_empty_spaces  peak_occupied_spaces  \\\n",
       "0  202.0  207.0  235.0  243.0              158.0                 414.0   \n",
       "1  189.0  212.0  209.0  203.0              189.0                 524.0   \n",
       "2  200.0  200.0  234.0  216.0              184.0                 533.0   \n",
       "3  144.0  173.0  196.0  186.0              144.0                 558.0   \n",
       "4  288.0  314.0  349.0  347.0              273.0                 424.0   \n",
       "\n",
       "   %_occupied  \n",
       "0        0.72  \n",
       "1        0.73  \n",
       "2        0.74  \n",
       "3        0.79  \n",
       "4        0.61  "
      ]
     },
     "execution_count": 52,
     "metadata": {},
     "output_type": "execute_result"
    }
   ],
   "source": [
    "df_La_Jolla_V = pd.read_csv(\"/home/ktantipa/ECE143_FinalProject/csv_data/By-Location/La_Jolla_Campus__Visitor_Parking_Spaces.csv\")\n",
    "df_La_Jolla_V.head() "
   ]
  },
  {
   "cell_type": "code",
   "execution_count": 54,
   "metadata": {},
   "outputs": [],
   "source": [
    "df_La_Jolla_V_new = df_La_Jolla_V.melt(id_vars=[\"year\", \"quarter\", \"parking_spaces\", \"peak_empty_spaces\", \"peak_occupied_spaces\", \"%_occupied\"], \n",
    "        var_name=\"Time of the day\", \n",
    "        value_name=\"Empty Spots\")"
   ]
  },
  {
   "cell_type": "code",
   "execution_count": 55,
   "metadata": {},
   "outputs": [
    {
     "data": {
      "text/plain": [
       "year                    2014/15\n",
       "quarter                  Summer\n",
       "parking_spaces             1503\n",
       "peak_empty_spaces           352\n",
       "peak_occupied_spaces       1151\n",
       "%_occupied                 0.77\n",
       "Time of the day             8am\n",
       "Empty Spots                1071\n",
       "Name: 56, dtype: object"
      ]
     },
     "execution_count": 55,
     "metadata": {},
     "output_type": "execute_result"
    }
   ],
   "source": [
    "df_La_Jolla_V_new.loc[df_La_Jolla_V_new['Empty Spots'].idxmax()]"
   ]
  },
  {
   "cell_type": "code",
   "execution_count": 56,
   "metadata": {},
   "outputs": [
    {
     "data": {
      "text/plain": [
       "year                    2007/08\n",
       "quarter                  Winter\n",
       "parking_spaces              490\n",
       "peak_empty_spaces            61\n",
       "peak_occupied_spaces        429\n",
       "%_occupied                 0.88\n",
       "Time of the day            12pm\n",
       "Empty Spots                  61\n",
       "Name: 270, dtype: object"
      ]
     },
     "execution_count": 56,
     "metadata": {},
     "output_type": "execute_result"
    }
   ],
   "source": [
    "df_La_Jolla_V_new.loc[df_La_Jolla_V_new['Empty Spots'].idxmin()]"
   ]
  },
  {
   "cell_type": "code",
   "execution_count": 57,
   "metadata": {},
   "outputs": [
    {
     "data": {
      "text/plain": [
       "232.525"
      ]
     },
     "execution_count": 57,
     "metadata": {},
     "output_type": "execute_result"
    }
   ],
   "source": [
    "df_La_Jolla_V_2000 = df_La_Jolla_V_new[df_La_Jolla_V_new.year == '2000/01']\n",
    "df_La_Jolla_V_2000[\"Empty Spots\"].mean()"
   ]
  },
  {
   "cell_type": "code",
   "execution_count": 58,
   "metadata": {},
   "outputs": [
    {
     "data": {
      "text/plain": [
       "411.1"
      ]
     },
     "execution_count": 58,
     "metadata": {},
     "output_type": "execute_result"
    }
   ],
   "source": [
    "df_La_Jolla_V_2000 = df_La_Jolla_V_new[df_La_Jolla_V_new.year == '2009/10']\n",
    "df_La_Jolla_V_2000[\"Empty Spots\"].mean()"
   ]
  },
  {
   "cell_type": "code",
   "execution_count": 59,
   "metadata": {},
   "outputs": [
    {
     "data": {
      "text/plain": [
       "448.75"
      ]
     },
     "execution_count": 59,
     "metadata": {},
     "output_type": "execute_result"
    }
   ],
   "source": [
    "df_La_Jolla_V_2000 = df_La_Jolla_V_new[df_La_Jolla_V_new.year == '2014/15']\n",
    "df_La_Jolla_V_2000[\"Empty Spots\"].mean()"
   ]
  },
  {
   "cell_type": "code",
   "execution_count": 78,
   "metadata": {},
   "outputs": [
    {
     "data": {
      "text/plain": [
       "Text(0.5, 1.0, 'Empty Spots of the Day on Average (V permit)')"
      ]
     },
     "execution_count": 78,
     "metadata": {},
     "output_type": "execute_result"
    },
    {
     "data": {
      "image/png": "[encoded data removed]",
      "text/plain": [
       "<Figure size 432x288 with 1 Axes>"
      ]
     },
     "metadata": {
      "needs_background": "light"
     },
     "output_type": "display_data"
    }
   ],
   "source": [
    "df_La_Jolla_V_new = df_La_Jolla_V_new.rename(columns={\"Time of the day\": \"Time\"})\n",
    "\n",
    "df_La_Jolla_V_new_8am = df_La_Jolla_V_new[df_La_Jolla_V_new.Time == '8am']\n",
    "a1 = df_La_Jolla_V_new_8am[\"Empty Spots\"].mean()\n",
    "df_La_Jolla_V_new_9am = df_La_Jolla_V_new[df_La_Jolla_V_new.Time == '9am']\n",
    "a2 = df_La_Jolla_V_new_9am[\"Empty Spots\"].mean()\n",
    "df_La_Jolla_V_new_10am = df_La_Jolla_V_new[df_La_Jolla_V_new.Time == '10am']\n",
    "a3 = df_La_Jolla_V_new_10am[\"Empty Spots\"].mean()\n",
    "df_La_Jolla_V_new_11am = df_La_Jolla_V_new[df_La_Jolla_V_new.Time == '11am']\n",
    "a4 = df_La_Jolla_V_new_11am[\"Empty Spots\"].mean()\n",
    "df_La_Jolla_V_new_12am = df_La_Jolla_V_new[df_La_Jolla_V_new.Time == '12pm']\n",
    "a5 = df_La_Jolla_V_new_12am[\"Empty Spots\"].mean()\n",
    "df_La_Jolla_V_new_1pm = df_La_Jolla_V_new[df_La_Jolla_V_new.Time == '1pm']\n",
    "a6 = df_La_Jolla_V_new_1pm[\"Empty Spots\"].mean()\n",
    "df_La_Jolla_V_new_2pm = df_La_Jolla_V_new[df_La_Jolla_V_new.Time == '2pm']\n",
    "a7 = df_La_Jolla_V_new_2pm[\"Empty Spots\"].mean()\n",
    "df_La_Jolla_V_new_3pm = df_La_Jolla_V_new[df_La_Jolla_V_new.Time == '3pm']\n",
    "a8 = df_La_Jolla_V_new_3pm[\"Empty Spots\"].mean()\n",
    "df_La_Jolla_V_new_4pm = df_La_Jolla_V_new[df_La_Jolla_V_new.Time == '4pm']\n",
    "a9 = df_La_Jolla_V_new_4pm[\"Empty Spots\"].mean()\n",
    "df_La_Jolla_V_new_5pm = df_La_Jolla_V_new[df_La_Jolla_V_new.Time == '5pm']\n",
    "a10 = df_La_Jolla_V_new_5pm[\"Empty Spots\"].mean()\n",
    "\n",
    "Times = ('8am', '9am', '10am', '11am', '12pm', '1pm', '2pm', '3pm', '4pm', '5pm')\n",
    "y_pos = np.arange(len(Times))\n",
    "performance = [a1,a2,a3,a4,a5,a6,a7,a8,a9,a10]\n",
    "\n",
    "plt.bar(y_pos, performance, align='center', alpha=0.5)\n",
    "plt.xticks(y_pos, Times)\n",
    "plt.ylabel('Empty Spots')\n",
    "plt.title('Empty Spots of the Day on Average (V permit)')"
   ]
  },
  {
   "cell_type": "markdown",
   "metadata": {},
   "source": [
    "## V Parking Space (By Location) (Medical Center)"
   ]
  },
  {
   "cell_type": "code",
   "execution_count": 62,
   "metadata": {},
   "outputs": [
    {
     "data": {
      "text/html": [
       "<div>\n",
       "<style scoped>\n",
       "    .dataframe tbody tr th:only-of-type {\n",
       "        vertical-align: middle;\n",
       "    }\n",
       "\n",
       "    .dataframe tbody tr th {\n",
       "        vertical-align: top;\n",
       "    }\n",
       "\n",
       "    .dataframe thead th {\n",
       "        text-align: right;\n",
       "    }\n",
       "</style>\n",
       "<table border=\"1\" class=\"dataframe\">\n",
       "  <thead>\n",
       "    <tr style=\"text-align: right;\">\n",
       "      <th></th>\n",
       "      <th>year</th>\n",
       "      <th>quarter</th>\n",
       "      <th>parking_spaces</th>\n",
       "      <th>8am</th>\n",
       "      <th>9am</th>\n",
       "      <th>10am</th>\n",
       "      <th>11am</th>\n",
       "      <th>12pm</th>\n",
       "      <th>1pm</th>\n",
       "      <th>2pm</th>\n",
       "      <th>3pm</th>\n",
       "      <th>4pm</th>\n",
       "      <th>5pm</th>\n",
       "      <th>peak_empty_spaces</th>\n",
       "      <th>peak_occupied_spaces</th>\n",
       "      <th>%_occupied</th>\n",
       "    </tr>\n",
       "  </thead>\n",
       "  <tbody>\n",
       "    <tr>\n",
       "      <th>0</th>\n",
       "      <td>2000/01</td>\n",
       "      <td>Summer</td>\n",
       "      <td>9.0</td>\n",
       "      <td>2.0</td>\n",
       "      <td>1.0</td>\n",
       "      <td>0.0</td>\n",
       "      <td>1.0</td>\n",
       "      <td>1.0</td>\n",
       "      <td>0.0</td>\n",
       "      <td>2.0</td>\n",
       "      <td>2.0</td>\n",
       "      <td>1.0</td>\n",
       "      <td>3.0</td>\n",
       "      <td>0.0</td>\n",
       "      <td>9.0</td>\n",
       "      <td>1.0</td>\n",
       "    </tr>\n",
       "    <tr>\n",
       "      <th>1</th>\n",
       "      <td>2000/01</td>\n",
       "      <td>Fall</td>\n",
       "      <td>9.0</td>\n",
       "      <td>3.0</td>\n",
       "      <td>0.0</td>\n",
       "      <td>0.0</td>\n",
       "      <td>0.0</td>\n",
       "      <td>1.0</td>\n",
       "      <td>1.0</td>\n",
       "      <td>0.0</td>\n",
       "      <td>0.0</td>\n",
       "      <td>2.0</td>\n",
       "      <td>3.0</td>\n",
       "      <td>0.0</td>\n",
       "      <td>9.0</td>\n",
       "      <td>1.0</td>\n",
       "    </tr>\n",
       "    <tr>\n",
       "      <th>2</th>\n",
       "      <td>2000/01</td>\n",
       "      <td>Winter</td>\n",
       "      <td>9.0</td>\n",
       "      <td>1.0</td>\n",
       "      <td>1.0</td>\n",
       "      <td>0.0</td>\n",
       "      <td>0.0</td>\n",
       "      <td>0.0</td>\n",
       "      <td>0.0</td>\n",
       "      <td>0.0</td>\n",
       "      <td>2.0</td>\n",
       "      <td>2.0</td>\n",
       "      <td>1.0</td>\n",
       "      <td>0.0</td>\n",
       "      <td>9.0</td>\n",
       "      <td>1.0</td>\n",
       "    </tr>\n",
       "    <tr>\n",
       "      <th>3</th>\n",
       "      <td>2000/01</td>\n",
       "      <td>Spring</td>\n",
       "      <td>9.0</td>\n",
       "      <td>3.0</td>\n",
       "      <td>2.0</td>\n",
       "      <td>1.0</td>\n",
       "      <td>0.0</td>\n",
       "      <td>1.0</td>\n",
       "      <td>1.0</td>\n",
       "      <td>0.0</td>\n",
       "      <td>1.0</td>\n",
       "      <td>1.0</td>\n",
       "      <td>3.0</td>\n",
       "      <td>0.0</td>\n",
       "      <td>9.0</td>\n",
       "      <td>1.0</td>\n",
       "    </tr>\n",
       "    <tr>\n",
       "      <th>4</th>\n",
       "      <td>2001/02</td>\n",
       "      <td>Summer</td>\n",
       "      <td>9.0</td>\n",
       "      <td>0.0</td>\n",
       "      <td>1.0</td>\n",
       "      <td>0.0</td>\n",
       "      <td>0.0</td>\n",
       "      <td>1.0</td>\n",
       "      <td>1.0</td>\n",
       "      <td>0.0</td>\n",
       "      <td>0.0</td>\n",
       "      <td>1.0</td>\n",
       "      <td>2.0</td>\n",
       "      <td>0.0</td>\n",
       "      <td>9.0</td>\n",
       "      <td>1.0</td>\n",
       "    </tr>\n",
       "  </tbody>\n",
       "</table>\n",
       "</div>"
      ],
      "text/plain": [
       "      year quarter  parking_spaces  8am  9am  10am  11am  12pm  1pm  2pm  3pm  \\\n",
       "0  2000/01  Summer             9.0  2.0  1.0   0.0   1.0   1.0  0.0  2.0  2.0   \n",
       "1  2000/01    Fall             9.0  3.0  0.0   0.0   0.0   1.0  1.0  0.0  0.0   \n",
       "2  2000/01  Winter             9.0  1.0  1.0   0.0   0.0   0.0  0.0  0.0  2.0   \n",
       "3  2000/01  Spring             9.0  3.0  2.0   1.0   0.0   1.0  1.0  0.0  1.0   \n",
       "4  2001/02  Summer             9.0  0.0  1.0   0.0   0.0   1.0  1.0  0.0  0.0   \n",
       "\n",
       "   4pm  5pm  peak_empty_spaces  peak_occupied_spaces  %_occupied  \n",
       "0  1.0  3.0                0.0                   9.0         1.0  \n",
       "1  2.0  3.0                0.0                   9.0         1.0  \n",
       "2  2.0  1.0                0.0                   9.0         1.0  \n",
       "3  1.0  3.0                0.0                   9.0         1.0  \n",
       "4  1.0  2.0                0.0                   9.0         1.0  "
      ]
     },
     "execution_count": 62,
     "metadata": {},
     "output_type": "execute_result"
    }
   ],
   "source": [
    "df_Medical_Center_Hillcrest_V = pd.read_csv(\"/home/ktantipa/ECE143_FinalProject/csv_data/By-Location/Medical_Center_Hillcrest__Visitor_Parking_Spaces.csv\")\n",
    "df_Medical_Center_Hillcrest_V.head()"
   ]
  },
  {
   "cell_type": "code",
   "execution_count": 63,
   "metadata": {},
   "outputs": [],
   "source": [
    "df_Medical_Center_Hillcrest_V_new = df_Medical_Center_Hillcrest_V.melt(id_vars=[\"year\", \"quarter\", \"parking_spaces\", \"peak_empty_spaces\", \"peak_occupied_spaces\", \"%_occupied\"], \n",
    "        var_name=\"Time of the day\", \n",
    "        value_name=\"Empty Spots\")"
   ]
  },
  {
   "cell_type": "code",
   "execution_count": 64,
   "metadata": {},
   "outputs": [
    {
     "data": {
      "text/plain": [
       "year                    2014/15\n",
       "quarter                  Winter\n",
       "parking_spaces              367\n",
       "peak_empty_spaces           106\n",
       "peak_occupied_spaces        261\n",
       "%_occupied                 0.71\n",
       "Time of the day             8am\n",
       "Empty Spots                 279\n",
       "Name: 58, dtype: object"
      ]
     },
     "execution_count": 64,
     "metadata": {},
     "output_type": "execute_result"
    }
   ],
   "source": [
    "df_Medical_Center_Hillcrest_V_new.loc[df_Medical_Center_Hillcrest_V_new['Empty Spots'].idxmax()]"
   ]
  },
  {
   "cell_type": "code",
   "execution_count": 65,
   "metadata": {},
   "outputs": [
    {
     "data": {
      "text/plain": [
       "year                    2001/02\n",
       "quarter                  Summer\n",
       "parking_spaces             1167\n",
       "peak_empty_spaces            91\n",
       "peak_occupied_spaces       1076\n",
       "%_occupied                 0.92\n",
       "Time of the day             8am\n",
       "Empty Spots                 318\n",
       "Name: 4, dtype: object"
      ]
     },
     "execution_count": 65,
     "metadata": {},
     "output_type": "execute_result"
    }
   ],
   "source": [
    "df_Medical_Center_Hillcrest_B_new.loc[df_Medical_Center_Hillcrest_V_new['Empty Spots'].idxmin()]"
   ]
  },
  {
   "cell_type": "markdown",
   "metadata": {},
   "source": [
    "### Pi Chart"
   ]
  },
  {
   "cell_type": "code",
   "execution_count": 87,
   "metadata": {},
   "outputs": [
    {
     "data": {
      "image/png": "[encoded data removed]",
      "text/plain": [
       "<Figure size 360x360 with 1 Axes>"
      ]
     },
     "metadata": {},
     "output_type": "display_data"
    }
   ],
   "source": [
    "df = pd.DataFrame({'Empty Space': [2740.3, 579.45, 895.975, 232.525]},\n",
    "                    index=['S Spot', 'A Spot', 'B Spot', 'V Spot'])\n",
    "\n",
    "plot = df.plot.pie(title='What are the average empty spots in Year 2000?',y='Empty Space', autopct='%1.0f%%', figsize=(5, 5))"
   ]
  },
  {
   "cell_type": "code",
   "execution_count": 88,
   "metadata": {},
   "outputs": [
    {
     "data": {
      "image/png": "[encoded data removed]",
      "text/plain": [
       "<Figure size 360x360 with 1 Axes>"
      ]
     },
     "metadata": {},
     "output_type": "display_data"
    }
   ],
   "source": [
    "df = pd.DataFrame({'Empty Space': [2300.15, 499.925, 1002.9, 411.1]},\n",
    "                    index=['S Spot', 'A Spot', 'B Spot', 'V Spot'])\n",
    "\n",
    "plot = df.plot.pie(title='What are the average empty spots in year 2009?',y='Empty Space', autopct='%1.0f%%', figsize=(5, 5))\n"
   ]
  },
  {
   "cell_type": "code",
   "execution_count": 92,
   "metadata": {},
   "outputs": [
    {
     "data": {
      "image/png": "[encoded data removed]",
      "text/plain": [
       "<Figure size 360x360 with 1 Axes>"
      ]
     },
     "metadata": {},
     "output_type": "display_data"
    }
   ],
   "source": [
    "df = pd.DataFrame({'Empty Space': [1449.95, 502.5, 1002.9, 448.75]},\n",
    "                    index=['S Spot', 'A Spot', 'B Spot', 'V Spot'])\n",
    "\n",
    "plot = df.plot.pie(title='What are the average empty spots in year 2014?',y='Empty Space', autopct='%1.0f%%', figsize=(5, 5))\n"
   ]
  },
  {
   "cell_type": "code",
   "execution_count": 91,
   "metadata": {},
   "outputs": [
    {
     "data": {
      "image/png": "[encoded data removed]",
      "text/plain": [
       "<Figure size 432x288 with 1 Axes>"
      ]
     },
     "metadata": {
      "needs_background": "light"
     },
     "output_type": "display_data"
    }
   ],
   "source": [
    "S_spot = [x1, x2, x3, x4, x5, x6, x7, x8, x9, x10]\n",
    "A_spot = [y1, y2, y3, y4, y5, y6, y7, x8, x9, x10]\n",
    "B_spot = [z1, z2, z3, z4, z5, z6, z7, z8, z9, z10]\n",
    "V_spot = [a1, a2, a3, a4, a5, a6, a7, a8, a9, a10]\n",
    "\n",
    "index = ['8am','9am','10am','11am','12pm','1pm','2pm','3pm','4pm', '5pm']\n",
    "df = pd.DataFrame({'S spot': S_spot,\n",
    "                   'A spot': A_spot,\n",
    "                   'B spot': B_spot,\n",
    "                   'V spot': V_spot}, index=index)\n",
    "ax = df.plot.bar(title='What are the average empty Spots on Average for each permits? (La Jolla Campus)', rot=0)\n"
   ]
  },
  {
   "cell_type": "code",
   "execution_count": null,
   "metadata": {},
   "outputs": [],
   "source": []
  }
 ],
 "metadata": {
  "kernelspec": {
   "display_name": "Python 3",
   "language": "python",
   "name": "python3"
  },
  "language_info": {
   "codemirror_mode": {
    "name": "ipython",
    "version": 3
   },
   "file_extension": ".py",
   "mimetype": "text/x-python",
   "name": "python",
   "nbconvert_exporter": "python",
   "pygments_lexer": "ipython3",
   "version": "3.7.3"
  }
 },
 "nbformat": 4,
 "nbformat_minor": 2
}
