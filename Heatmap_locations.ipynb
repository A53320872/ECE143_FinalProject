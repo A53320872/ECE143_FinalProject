{
 "cells": [
  {
   "cell_type": "code",
   "execution_count": 1,
   "metadata": {},
   "outputs": [],
   "source": [
    "%matplotlib inline\n",
    "import gmaps\n",
    "import gmaps.datasets\n",
    "from ipywidgets.embed import embed_minimal_html\n",
    "import numpy as np\n",
    "import matplotlib.pyplot as plt\n",
    "import seaborn as sns\n",
    "import pandas as pd\n",
    "import os\n",
    "import math"
   ]
  },
  {
   "cell_type": "code",
   "execution_count": 2,
   "metadata": {},
   "outputs": [],
   "source": [
    "location_dict = {}\n",
    "location_dict['Aquarium'] = (32.873649, -117.250205)\n",
    "location_dict['Campus_Services_Complex'] = (32.884225, -117.229248)\n",
    "location_dict['East_Campus_Academic'] = (32.883081, -117.223041)\n",
    "location_dict['Health_Sciences'] = (32.879871, -117.222291)\n",
    "location_dict['Marshall_College'] = (32.881570, -117.240855)\n",
    "location_dict['Medical_Center_Hillcrest'] = (32.757564, -117.165722)\n",
    "location_dict['Muir_College'] = (32.878590, -117.240475)\n",
    "location_dict['North_Campus'] = (32.888639, -117.240570)\n",
    "location_dict['North_Torrey_Pines_and_Glider_Port'] = (32.887263, -117.244244)\n",
    "location_dict['Revelle_College'] = (32.875369, -117.241927)\n",
    "location_dict['Roosevelt_College'] = (32.886399, -117.242311)\n",
    "location_dict['School_of_Medicine'] = (32.874703, -117.236000)\n",
    "location_dict['Science_Research_Park'] = (32.877269, -117.221253)\n",
    "location_dict['SIO_Hillside'] = (32.868955, -117.247665)\n",
    "location_dict['SIO_South'] = (32.866971, -117.250311)\n",
    "location_dict['SIO_West'] = (32.869017, -117.253386)\n",
    "location_dict['Sixth_College'] = (32.878434, -117.231914)\n",
    "location_dict['Theatre_District'] = (32.872228, -117.240450)\n",
    "location_dict['University_Center'] = (32.877892, -117.235919)\n",
    "location_dict['Warren_College'] = (32.881349, -117.233666)"
   ]
  },
  {
   "cell_type": "code",
   "execution_count": 9,
   "metadata": {},
   "outputs": [],
   "source": [
    "def get_aver(filename):\n",
    "    df_ori = pd.read_csv(filename)\n",
    "    s = ['8am','9am','10am','11am','12pm','1pm','2pm','3pm','4pm','5pm']\n",
    "    df_temp = df_ori.drop(columns = s, axis = 1)\n",
    "    df_temp['average_empty_spaces'] = df_ori[s].mean(axis=1)\n",
    "#     df_temp = df_temp.loc[(df_temp.year == '2014/15')]\n",
    "#     print(df_temp.head())\n",
    "    df_temp = df_temp.loc[(df_temp.year == '2000/01')]\n",
    "    df_final = df_temp[['parking_spaces','average_empty_spaces']].mean()\n",
    "    return 10 * (float(df_final['parking_spaces']) - float(df_final['average_empty_spaces'])) / float(df_final['parking_spaces']) - 5"
   ]
  },
  {
   "cell_type": "code",
   "execution_count": 4,
   "metadata": {},
   "outputs": [
    {
     "data": {
      "text/plain": [
       "-0.4039179104477615"
      ]
     },
     "execution_count": 4,
     "metadata": {},
     "output_type": "execute_result"
    }
   ],
   "source": [
    "get_aver('csv_data/By-Neighborhood/Aquarium__All_Parking_Spaces_Combined.csv')"
   ]
  },
  {
   "cell_type": "code",
   "execution_count": 5,
   "metadata": {},
   "outputs": [],
   "source": [
    "def get_weights():\n",
    "    prefix = 'csv_data/By-Neighborhood/'\n",
    "    files = os.listdir(prefix)\n",
    "    weights = []\n",
    "    for loc in location_dict:\n",
    "        total_aver = 0\n",
    "        for file in files:\n",
    "#             print(file)\n",
    "#             print(loc + '_All_Parking_Spaces_Combined.csv')\n",
    "            if file == loc + '__All_Parking_Spaces_Combined.csv':\n",
    "#                 print('Right')\n",
    "                total_aver += get_aver(prefix + file)\n",
    "        weights.append(total_aver)\n",
    "#         print(loc + ' is ' + str(total_aver))\n",
    "    return weights"
   ]
  },
  {
   "cell_type": "code",
   "execution_count": 6,
   "metadata": {},
   "outputs": [],
   "source": [
    "def get_GoogleMap(df):\n",
    "    gmaps.configure(api_key='YOUR_API_KEY_HERE')\n",
    "    # dataframe with columns ('latitude', 'longitude', 'average')\n",
    "    fig = gmaps.figure()\n",
    "    # heatmap_layer = gmaps.heatmap_layer(df,weights=weights,point_radius=25.0)\n",
    "    heatmap_layer = gmaps.heatmap_layer(\n",
    "        df[['latitude', 'longitude']], weights=df['average'],\n",
    "        point_radius=25.0\n",
    "    )\n",
    "    fig.add_layer(heatmap_layer)\n",
    "#     embed_minimal_html('export.html', views=[fig])\n",
    "    return fig"
   ]
  },
  {
   "cell_type": "code",
   "execution_count": 10,
   "metadata": {},
   "outputs": [],
   "source": [
    "lat_list = [location_dict[loc][0] for loc in location_dict]\n",
    "long_list = [location_dict[loc][1] for loc in location_dict]\n",
    "weights = get_weights() \n",
    "df = pd.DataFrame()\n",
    "df['latitude'] = lat_list\n",
    "df['longitude'] = long_list\n",
    "# df['average'] = [math.log(x) if not math.isnan(x) else 1 for x in weights]\n",
    "df['average'] = [x if not math.isnan(x) and x > 0 else 1 for x in weights]\n",
    "\n",
    "# df['average']"
   ]
  },
  {
   "cell_type": "code",
   "execution_count": 8,
   "metadata": {
    "scrolled": true
   },
   "outputs": [
    {
     "data": {
      "text/plain": [
       "Figure(layout=FigureLayout(height='420px'))"
      ]
     },
     "metadata": {},
     "output_type": "display_data"
    }
   ],
   "source": [
    "get_GoogleMap(df)"
   ]
  },
  {
   "cell_type": "code",
   "execution_count": 11,
   "metadata": {
    "scrolled": true
   },
   "outputs": [
    {
     "data": {
      "text/plain": [
       "Figure(layout=FigureLayout(height='420px'))"
      ]
     },
     "metadata": {},
     "output_type": "display_data"
    }
   ],
   "source": [
    "get_GoogleMap(df)"
   ]
  },
  {
   "cell_type": "code",
   "execution_count": 122,
   "metadata": {},
   "outputs": [],
   "source": [
    "df_ori = pd.read_csv(\"csv_data/By-Location/La_Jolla_Campus__S_Parking_Spaces.csv\")\n",
    "s = ['8am','9am','10am','11am','12pm','1pm','2pm','3pm','4pm','5pm']\n",
    "df_temp = df_ori.drop(columns = s, axis = 1)\n",
    "df_temp['average_empty_spaces'] = df_ori[s].mean(axis=1)\n",
    "df_temp = df_temp.loc[(df_temp.year == '2014/15')]\n",
    "df_final = df_temp[['parking_spaces','average_empty_spaces']].mean()"
   ]
  },
  {
   "cell_type": "code",
   "execution_count": 160,
   "metadata": {},
   "outputs": [
    {
     "data": {
      "text/plain": [
       "1537.025"
      ]
     },
     "execution_count": 160,
     "metadata": {},
     "output_type": "execute_result"
    }
   ],
   "source": [
    "get_aver('csv_data/By-Neighborhood/Medical_Center_Hillicrest' + '__All_Parking_Spaces_Combined.csv')"
   ]
  },
  {
   "cell_type": "code",
   "execution_count": 163,
   "metadata": {},
   "outputs": [
    {
     "name": "stdout",
     "output_type": "stream",
     "text": [
      "Aquarium\n",
      " is 119.54999999999998\n",
      "Campus_Services_Complex\n",
      " is 35.75\n",
      "East_Campus_Academic\n",
      " is 689.9000000000001\n",
      "Health_Sciences\n",
      " is 525.45\n",
      "Marshall_College\n",
      " is 213.25\n",
      "Medical_Center_Hillcrest\n",
      " is 1537.025\n",
      "Muir_College\n",
      " is 437.42499999999995\n",
      "North_Campus\n",
      " is 99.42500000000001\n",
      "North_Torrey_Pines_and_Glider_Port\n",
      " is 371.42499999999995\n",
      "Revelle_College\n",
      " is 415.375\n",
      "Roosevelt_College\n",
      " is 572.15\n",
      "School_of_Medicine\n",
      " is 206.75\n",
      "Science_Research_Park\n",
      " is 56.82500000000002\n",
      "SIO_Hillside\n",
      " is 59.55000000000001\n",
      "SIO_South\n",
      " is 85.175\n",
      "SIO_West\n",
      " is 32.45\n",
      "Sixth_College\n",
      " is 447.17499999999995\n",
      "Theatre_District\n",
      " is 2.8499999999999996\n",
      "University_Center\n",
      " is 64.875\n",
      "Warren_College\n",
      " is 170.925\n"
     ]
    },
    {
     "data": {
      "text/plain": [
       "[119.54999999999998,\n",
       " 35.75,\n",
       " 689.9000000000001,\n",
       " 525.45,\n",
       " 213.25,\n",
       " 1537.025,\n",
       " 437.42499999999995,\n",
       " 99.42500000000001,\n",
       " 371.42499999999995,\n",
       " 415.375,\n",
       " 572.15,\n",
       " 206.75,\n",
       " 56.82500000000002,\n",
       " 59.55000000000001,\n",
       " 85.175,\n",
       " 32.45,\n",
       " 447.17499999999995,\n",
       " 2.8499999999999996,\n",
       " 64.875,\n",
       " 170.925]"
      ]
     },
     "execution_count": 163,
     "metadata": {},
     "output_type": "execute_result"
    }
   ],
   "source": [
    "get_weights()"
   ]
  }
 ],
 "metadata": {
  "kernelspec": {
   "display_name": "Python 3",
   "language": "python",
   "name": "python3"
  },
  "language_info": {
   "codemirror_mode": {
    "name": "ipython",
    "version": 3
   },
   "file_extension": ".py",
   "mimetype": "text/x-python",
   "name": "python",
   "nbconvert_exporter": "python",
   "pygments_lexer": "ipython3",
   "version": "3.7.3"
  }
 },
 "nbformat": 4,
 "nbformat_minor": 2
}
