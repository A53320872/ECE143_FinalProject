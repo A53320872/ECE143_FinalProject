{
 "cells": [
  {
   "cell_type": "code",
   "execution_count": null,
   "metadata": {},
   "outputs": [],
   "source": [
    "prefix = 'csv_data/By-Neighborhood/'\n",
    "file_list = ['Sixth_College__All_Parking_Spaces_Combined.csv','Science_Research_Park__All_Parking_Spaces_Combined.csv',\n",
    "             'North_Torrey_Pines_and_Glider_Port__All_Parking_Spaces_Combined.csv']\n",
    "lines_list = []\n",
    "quarter_list = ['Summer','Fall','Winter','Spring']\n",
    "for file in file_list:\n",
    "    fd = open(prefix + file,'r')\n",
    "    line = fd.readline()\n",
    "    lines = []\n",
    "    lines.append(line)\n",
    "    count = 0\n",
    "    while True:\n",
    "        line = fd.readline()\n",
    "        if not line:\n",
    "            break\n",
    "        line = line[0:8] + quarter_list[count % 4] + ','+line[8:]\n",
    "        count += 1\n",
    "        lines.append(line)\n",
    "    lines_list.append(lines)\n",
    "    fd.close()"
   ]
  },
  {
   "cell_type": "code",
   "execution_count": null,
   "metadata": {},
   "outputs": [],
   "source": [
    "for file,lines in zip(file_list,lines_list):\n",
    "    fd = open(prefix + file,'w')\n",
    "    for line in lines:\n",
    "        fd.write(line)\n",
    "    fd.close()"
   ]
  }
 ],
 "metadata": {
  "kernelspec": {
   "display_name": "Python 3",
   "language": "python",
   "name": "python3"
  },
  "language_info": {
   "codemirror_mode": {
    "name": "ipython",
    "version": 3
   },
   "file_extension": ".py",
   "mimetype": "text/x-python",
   "name": "python",
   "nbconvert_exporter": "python",
   "pygments_lexer": "ipython3",
   "version": "3.7.3"
  }
 },
 "nbformat": 4,
 "nbformat_minor": 2
}
